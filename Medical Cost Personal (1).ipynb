{
 "cells": [
  {
   "cell_type": "markdown",
   "id": "37c43e44-5580-4596-bee7-5a61487bcef3",
   "metadata": {},
   "source": [
    "## **Importing required Modules**"
   ]
  },
  {
   "cell_type": "code",
   "execution_count": 1,
   "id": "315c9c91-7f32-43bc-a6ef-21e8ec72cfef",
   "metadata": {},
   "outputs": [],
   "source": [
    "import pandas as pd \n",
    "import numpy as np\n",
    "import matplotlib.pyplot as plt\n",
    "import seaborn as sns\n",
    "from sklearn.linear_model import LinearRegression,Ridge,Lasso\n",
    "from sklearn.model_selection import train_test_split,ShuffleSplit,GridSearchCV\n",
    "from sklearn.metrics import r2_score,mean_absolute_error\n",
    "from sklearn.preprocessing import OneHotEncoder,StandardScaler,MinMaxScaler\n",
    "from sklearn.compose import ColumnTransformer\n",
    "from sklearn.neighbors import KNeighborsRegressor\n",
    "from sklearn.tree import DecisionTreeRegressor\n",
    "from sklearn.ensemble import GradientBoostingRegressor,RandomForestRegressor,AdaBoostRegressor,ExtraTreesRegressor,VotingRegressor,StackingRegressor\n",
    "from xgboost import XGBRegressor\n",
    "import warnings \n",
    "warnings.filterwarnings(\"ignore\")"
   ]
  },
  {
   "cell_type": "code",
   "execution_count": 2,
   "id": "ef6d1eed-204e-4347-ba2e-cecb993844e3",
   "metadata": {},
   "outputs": [],
   "source": [
    "df = pd.read_csv(r\"E:\\Internship Projects\\Medical Cost Personal Predictor\\insurance.csv\")"
   ]
  },
  {
   "cell_type": "code",
   "execution_count": 20,
   "id": "28b2ba57-e435-4ade-a9e1-dd5e6d5b90c5",
   "metadata": {},
   "outputs": [
    {
     "data": {
      "text/html": [
       "<div>\n",
       "<style scoped>\n",
       "    .dataframe tbody tr th:only-of-type {\n",
       "        vertical-align: middle;\n",
       "    }\n",
       "\n",
       "    .dataframe tbody tr th {\n",
       "        vertical-align: top;\n",
       "    }\n",
       "\n",
       "    .dataframe thead th {\n",
       "        text-align: right;\n",
       "    }\n",
       "</style>\n",
       "<table border=\"1\" class=\"dataframe\">\n",
       "  <thead>\n",
       "    <tr style=\"text-align: right;\">\n",
       "      <th></th>\n",
       "      <th>age</th>\n",
       "      <th>sex</th>\n",
       "      <th>bmi</th>\n",
       "      <th>children</th>\n",
       "      <th>smoker</th>\n",
       "      <th>region</th>\n",
       "      <th>charges</th>\n",
       "    </tr>\n",
       "  </thead>\n",
       "  <tbody>\n",
       "    <tr>\n",
       "      <th>0</th>\n",
       "      <td>19</td>\n",
       "      <td>female</td>\n",
       "      <td>27.900</td>\n",
       "      <td>0</td>\n",
       "      <td>yes</td>\n",
       "      <td>southwest</td>\n",
       "      <td>16884.92400</td>\n",
       "    </tr>\n",
       "    <tr>\n",
       "      <th>1</th>\n",
       "      <td>18</td>\n",
       "      <td>male</td>\n",
       "      <td>33.770</td>\n",
       "      <td>1</td>\n",
       "      <td>no</td>\n",
       "      <td>southeast</td>\n",
       "      <td>1725.55230</td>\n",
       "    </tr>\n",
       "    <tr>\n",
       "      <th>2</th>\n",
       "      <td>28</td>\n",
       "      <td>male</td>\n",
       "      <td>33.000</td>\n",
       "      <td>3</td>\n",
       "      <td>no</td>\n",
       "      <td>southeast</td>\n",
       "      <td>4449.46200</td>\n",
       "    </tr>\n",
       "    <tr>\n",
       "      <th>3</th>\n",
       "      <td>33</td>\n",
       "      <td>male</td>\n",
       "      <td>22.705</td>\n",
       "      <td>0</td>\n",
       "      <td>no</td>\n",
       "      <td>northwest</td>\n",
       "      <td>21984.47061</td>\n",
       "    </tr>\n",
       "    <tr>\n",
       "      <th>4</th>\n",
       "      <td>32</td>\n",
       "      <td>male</td>\n",
       "      <td>28.880</td>\n",
       "      <td>0</td>\n",
       "      <td>no</td>\n",
       "      <td>northwest</td>\n",
       "      <td>3866.85520</td>\n",
       "    </tr>\n",
       "  </tbody>\n",
       "</table>\n",
       "</div>"
      ],
      "text/plain": [
       "   age     sex     bmi  children smoker     region      charges\n",
       "0   19  female  27.900         0    yes  southwest  16884.92400\n",
       "1   18    male  33.770         1     no  southeast   1725.55230\n",
       "2   28    male  33.000         3     no  southeast   4449.46200\n",
       "3   33    male  22.705         0     no  northwest  21984.47061\n",
       "4   32    male  28.880         0     no  northwest   3866.85520"
      ]
     },
     "execution_count": 20,
     "metadata": {},
     "output_type": "execute_result"
    }
   ],
   "source": [
    "df.head()"
   ]
  },
  {
   "cell_type": "markdown",
   "id": "c2326fb0-17e3-44d5-8d3a-ffcce221f201",
   "metadata": {},
   "source": [
    "## **Data Preprocessing and EDA Exploratory Data Analaysis**"
   ]
  },
  {
   "cell_type": "code",
   "execution_count": 4,
   "id": "e02d2e84-c54b-4fad-9f9f-e7d59b3659f7",
   "metadata": {},
   "outputs": [
    {
     "data": {
      "text/plain": [
       "(1338, 7)"
      ]
     },
     "execution_count": 4,
     "metadata": {},
     "output_type": "execute_result"
    }
   ],
   "source": [
    "df.shape"
   ]
  },
  {
   "cell_type": "code",
   "execution_count": 5,
   "id": "161db646-356f-4aad-8457-26ff85346ee7",
   "metadata": {},
   "outputs": [
    {
     "name": "stdout",
     "output_type": "stream",
     "text": [
      "<class 'pandas.core.frame.DataFrame'>\n",
      "RangeIndex: 1338 entries, 0 to 1337\n",
      "Data columns (total 7 columns):\n",
      " #   Column    Non-Null Count  Dtype  \n",
      "---  ------    --------------  -----  \n",
      " 0   age       1338 non-null   int64  \n",
      " 1   sex       1338 non-null   object \n",
      " 2   bmi       1338 non-null   float64\n",
      " 3   children  1338 non-null   int64  \n",
      " 4   smoker    1338 non-null   object \n",
      " 5   region    1338 non-null   object \n",
      " 6   charges   1338 non-null   float64\n",
      "dtypes: float64(2), int64(2), object(3)\n",
      "memory usage: 73.3+ KB\n"
     ]
    }
   ],
   "source": [
    "df.info()"
   ]
  },
  {
   "cell_type": "code",
   "execution_count": 6,
   "id": "7edf35a0-7497-4412-ae4b-18e438313d9e",
   "metadata": {},
   "outputs": [
    {
     "data": {
      "text/html": [
       "<div>\n",
       "<style scoped>\n",
       "    .dataframe tbody tr th:only-of-type {\n",
       "        vertical-align: middle;\n",
       "    }\n",
       "\n",
       "    .dataframe tbody tr th {\n",
       "        vertical-align: top;\n",
       "    }\n",
       "\n",
       "    .dataframe thead th {\n",
       "        text-align: right;\n",
       "    }\n",
       "</style>\n",
       "<table border=\"1\" class=\"dataframe\">\n",
       "  <thead>\n",
       "    <tr style=\"text-align: right;\">\n",
       "      <th></th>\n",
       "      <th>age</th>\n",
       "      <th>bmi</th>\n",
       "      <th>children</th>\n",
       "      <th>charges</th>\n",
       "    </tr>\n",
       "  </thead>\n",
       "  <tbody>\n",
       "    <tr>\n",
       "      <th>count</th>\n",
       "      <td>1338.000000</td>\n",
       "      <td>1338.000000</td>\n",
       "      <td>1338.000000</td>\n",
       "      <td>1338.000000</td>\n",
       "    </tr>\n",
       "    <tr>\n",
       "      <th>mean</th>\n",
       "      <td>39.207025</td>\n",
       "      <td>30.663397</td>\n",
       "      <td>1.094918</td>\n",
       "      <td>13270.422265</td>\n",
       "    </tr>\n",
       "    <tr>\n",
       "      <th>std</th>\n",
       "      <td>14.049960</td>\n",
       "      <td>6.098187</td>\n",
       "      <td>1.205493</td>\n",
       "      <td>12110.011237</td>\n",
       "    </tr>\n",
       "    <tr>\n",
       "      <th>min</th>\n",
       "      <td>18.000000</td>\n",
       "      <td>15.960000</td>\n",
       "      <td>0.000000</td>\n",
       "      <td>1121.873900</td>\n",
       "    </tr>\n",
       "    <tr>\n",
       "      <th>25%</th>\n",
       "      <td>27.000000</td>\n",
       "      <td>26.296250</td>\n",
       "      <td>0.000000</td>\n",
       "      <td>4740.287150</td>\n",
       "    </tr>\n",
       "    <tr>\n",
       "      <th>50%</th>\n",
       "      <td>39.000000</td>\n",
       "      <td>30.400000</td>\n",
       "      <td>1.000000</td>\n",
       "      <td>9382.033000</td>\n",
       "    </tr>\n",
       "    <tr>\n",
       "      <th>75%</th>\n",
       "      <td>51.000000</td>\n",
       "      <td>34.693750</td>\n",
       "      <td>2.000000</td>\n",
       "      <td>16639.912515</td>\n",
       "    </tr>\n",
       "    <tr>\n",
       "      <th>max</th>\n",
       "      <td>64.000000</td>\n",
       "      <td>53.130000</td>\n",
       "      <td>5.000000</td>\n",
       "      <td>63770.428010</td>\n",
       "    </tr>\n",
       "  </tbody>\n",
       "</table>\n",
       "</div>"
      ],
      "text/plain": [
       "               age          bmi     children       charges\n",
       "count  1338.000000  1338.000000  1338.000000   1338.000000\n",
       "mean     39.207025    30.663397     1.094918  13270.422265\n",
       "std      14.049960     6.098187     1.205493  12110.011237\n",
       "min      18.000000    15.960000     0.000000   1121.873900\n",
       "25%      27.000000    26.296250     0.000000   4740.287150\n",
       "50%      39.000000    30.400000     1.000000   9382.033000\n",
       "75%      51.000000    34.693750     2.000000  16639.912515\n",
       "max      64.000000    53.130000     5.000000  63770.428010"
      ]
     },
     "execution_count": 6,
     "metadata": {},
     "output_type": "execute_result"
    }
   ],
   "source": [
    "df.describe()"
   ]
  },
  {
   "cell_type": "code",
   "execution_count": 7,
   "id": "1ee7a769-f5a0-4afb-9a87-22e8b27d21c4",
   "metadata": {},
   "outputs": [
    {
     "data": {
      "text/html": [
       "<div>\n",
       "<style scoped>\n",
       "    .dataframe tbody tr th:only-of-type {\n",
       "        vertical-align: middle;\n",
       "    }\n",
       "\n",
       "    .dataframe tbody tr th {\n",
       "        vertical-align: top;\n",
       "    }\n",
       "\n",
       "    .dataframe thead th {\n",
       "        text-align: right;\n",
       "    }\n",
       "</style>\n",
       "<table border=\"1\" class=\"dataframe\">\n",
       "  <thead>\n",
       "    <tr style=\"text-align: right;\">\n",
       "      <th></th>\n",
       "      <th>sex</th>\n",
       "      <th>smoker</th>\n",
       "      <th>region</th>\n",
       "    </tr>\n",
       "  </thead>\n",
       "  <tbody>\n",
       "    <tr>\n",
       "      <th>count</th>\n",
       "      <td>1338</td>\n",
       "      <td>1338</td>\n",
       "      <td>1338</td>\n",
       "    </tr>\n",
       "    <tr>\n",
       "      <th>unique</th>\n",
       "      <td>2</td>\n",
       "      <td>2</td>\n",
       "      <td>4</td>\n",
       "    </tr>\n",
       "    <tr>\n",
       "      <th>top</th>\n",
       "      <td>male</td>\n",
       "      <td>no</td>\n",
       "      <td>southeast</td>\n",
       "    </tr>\n",
       "    <tr>\n",
       "      <th>freq</th>\n",
       "      <td>676</td>\n",
       "      <td>1064</td>\n",
       "      <td>364</td>\n",
       "    </tr>\n",
       "  </tbody>\n",
       "</table>\n",
       "</div>"
      ],
      "text/plain": [
       "         sex smoker     region\n",
       "count   1338   1338       1338\n",
       "unique     2      2          4\n",
       "top     male     no  southeast\n",
       "freq     676   1064        364"
      ]
     },
     "execution_count": 7,
     "metadata": {},
     "output_type": "execute_result"
    }
   ],
   "source": [
    "df.describe(include = \"O\")"
   ]
  },
  {
   "cell_type": "code",
   "execution_count": 8,
   "id": "85d34a4f-745b-4e9a-98bf-8871babe2ac8",
   "metadata": {},
   "outputs": [
    {
     "data": {
      "image/png": "[encoded data removed]",
      "text/plain": [
       "<Figure size 640x480 with 1 Axes>"
      ]
     },
     "metadata": {},
     "output_type": "display_data"
    }
   ],
   "source": [
    "counts, bin_edges, _ = plt.hist(df[\"age\"], bins=10, edgecolor='black')\n",
    "plt.xticks(bin_edges)\n",
    "for count, x in zip(counts, bin_edges):\n",
    "    plt.text(x+2, count, str(int(count)), ha='center', va='bottom', fontsize=9)\n",
    "plt.xlabel(\"age\")\n",
    "plt.ylabel(\"Count\")\n",
    "plt.title(\"Distribution of Age\")\n",
    "plt.grid(True)\n",
    "plt.show()"
   ]
  },
  {
   "cell_type": "code",
   "execution_count": 9,
   "id": "ff613bd9-9b99-4938-a5da-fcd884f99e13",
   "metadata": {},
   "outputs": [
    {
     "data": {
      "text/plain": [
       "Text(0.5, 1.0, 'Distribution of Age')"
      ]
     },
     "execution_count": 9,
     "metadata": {},
     "output_type": "execute_result"
    },
    {
     "data": {
      "image/png": "[encoded data removed]",
      "text/plain": [
       "<Figure size 640x480 with 1 Axes>"
      ]
     },
     "metadata": {},
     "output_type": "display_data"
    }
   ],
   "source": [
    "sns.boxplot(y = df[\"age\"])\n",
    "plt.ylabel(\"age\")\n",
    "plt.title(\"Distribution of Age\")"
   ]
  },
  {
   "cell_type": "markdown",
   "id": "b8fba2fd-6dce-4804-bfce-ead35fe734f2",
   "metadata": {},
   "source": [
    "## **BMI has Outliers that should not be there**"
   ]
  },
  {
   "cell_type": "code",
   "execution_count": 10,
   "id": "9fa2713e-bd5a-49d6-9a32-1a271a2a72f7",
   "metadata": {},
   "outputs": [
    {
     "data": {
      "text/plain": [
       "Text(0.5, 1.0, 'Distribution of BMI')"
      ]
     },
     "execution_count": 10,
     "metadata": {},
     "output_type": "execute_result"
    },
    {
     "data": {
      "image/png": "[encoded data removed]",
      "text/plain": [
       "<Figure size 640x480 with 1 Axes>"
      ]
     },
     "metadata": {},
     "output_type": "display_data"
    }
   ],
   "source": [
    "sns.boxplot(y = df[\"bmi\"])\n",
    "plt.ylabel(\"bmi\")\n",
    "plt.title(\"Distribution of BMI\")"
   ]
  },
  {
   "cell_type": "markdown",
   "id": "e35eaa1b-a8d3-4293-b8e9-9a74376eb235",
   "metadata": {},
   "source": [
    "## **Removing Outliers**"
   ]
  },
  {
   "cell_type": "code",
   "execution_count": 11,
   "id": "564dd6cc-8332-4a06-abc8-27089d136044",
   "metadata": {},
   "outputs": [],
   "source": [
    "quantile = df[\"bmi\"].quantile(0.992)\n",
    "df = df[df[\"bmi\"] < quantile]"
   ]
  },
  {
   "cell_type": "code",
   "execution_count": 12,
   "id": "2a7b59b2-5fd1-4791-93ce-6ab3f631e310",
   "metadata": {},
   "outputs": [
    {
     "data": {
      "text/plain": [
       "(1327, 7)"
      ]
     },
     "execution_count": 12,
     "metadata": {},
     "output_type": "execute_result"
    }
   ],
   "source": [
    "df.shape"
   ]
  },
  {
   "cell_type": "code",
   "execution_count": 13,
   "id": "dff5c570-9f47-435a-9859-15f926a2c988",
   "metadata": {},
   "outputs": [
    {
     "data": {
      "text/plain": [
       "Text(0.5, 1.0, 'Distribution of BMI')"
      ]
     },
     "execution_count": 13,
     "metadata": {},
     "output_type": "execute_result"
    },
    {
     "data": {
      "image/png": "[encoded data removed]",
      "text/plain": [
       "<Figure size 640x480 with 1 Axes>"
      ]
     },
     "metadata": {},
     "output_type": "display_data"
    }
   ],
   "source": [
    "sns.boxplot(y = df[\"bmi\"])\n",
    "plt.ylabel(\"bmi\")\n",
    "plt.title(\"Distribution of BMI\")"
   ]
  },
  {
   "cell_type": "markdown",
   "id": "8116e5e9-4758-4c47-966b-23c074df61da",
   "metadata": {},
   "source": [
    "## **Normal Distribution is GOOD for the Linear Models**"
   ]
  },
  {
   "cell_type": "code",
   "execution_count": 14,
   "id": "e682db57-e788-479a-b305-b1095804c552",
   "metadata": {},
   "outputs": [
    {
     "data": {
      "image/png": "[encoded data removed]",
      "text/plain": [
       "<Figure size 1300x500 with 1 Axes>"
      ]
     },
     "metadata": {},
     "output_type": "display_data"
    }
   ],
   "source": [
    "plt.figure(figsize = (13,5))\n",
    "counts, bin_edges, _ = plt.hist(df[\"bmi\"], bins=10, edgecolor='black')\n",
    "plt.xticks(bin_edges)\n",
    "for count, x in zip(counts, bin_edges):\n",
    "    plt.text(x+1.7, count, str(int(count)), ha='center', va='bottom', fontsize=9)\n",
    "plt.xlabel(\"bmi\")\n",
    "plt.ylabel(\"Count\")\n",
    "plt.title(\"Distribution of BMI\")\n",
    "plt.grid(True)\n",
    "plt.show()"
   ]
  },
  {
   "cell_type": "markdown",
   "id": "8971c7e4-4e37-43e0-813c-3c6e342043d7",
   "metadata": {},
   "source": [
    "## **Data has equal number of Male and Female Records**"
   ]
  },
  {
   "cell_type": "code",
   "execution_count": 15,
   "id": "4c7b3830-65f4-4309-800a-017b9a94c1f5",
   "metadata": {},
   "outputs": [
    {
     "data": {
      "image/png": "[encoded data removed]",
      "text/plain": [
       "<Figure size 640x480 with 1 Axes>"
      ]
     },
     "metadata": {},
     "output_type": "display_data"
    }
   ],
   "source": [
    "ax = sns.countplot(x = df[\"sex\"])\n",
    "for i in ax.containers:\n",
    "    ax.bar_label(i)\n",
    "plt.title(\"Ditribution of the Gender\")\n",
    "plt.show()"
   ]
  },
  {
   "cell_type": "markdown",
   "id": "05bbb0be-fd1d-4672-a631-efdfe42d01d4",
   "metadata": {},
   "source": [
    "## **Males Smoke more as Compare to the Female Check Percentage**"
   ]
  },
  {
   "cell_type": "code",
   "execution_count": 16,
   "id": "99d75210-2d49-43d5-a0b8-745d0c789afd",
   "metadata": {},
   "outputs": [
    {
     "data": {
      "text/html": [
       "<div>\n",
       "<style scoped>\n",
       "    .dataframe tbody tr th:only-of-type {\n",
       "        vertical-align: middle;\n",
       "    }\n",
       "\n",
       "    .dataframe tbody tr th {\n",
       "        vertical-align: top;\n",
       "    }\n",
       "\n",
       "    .dataframe thead th {\n",
       "        text-align: right;\n",
       "    }\n",
       "</style>\n",
       "<table border=\"1\" class=\"dataframe\">\n",
       "  <thead>\n",
       "    <tr style=\"text-align: right;\">\n",
       "      <th></th>\n",
       "      <th>sex</th>\n",
       "      <th>smoker</th>\n",
       "      <th>proportion</th>\n",
       "    </tr>\n",
       "  </thead>\n",
       "  <tbody>\n",
       "    <tr>\n",
       "      <th>0</th>\n",
       "      <td>female</td>\n",
       "      <td>no</td>\n",
       "      <td>82.800609</td>\n",
       "    </tr>\n",
       "    <tr>\n",
       "      <th>1</th>\n",
       "      <td>female</td>\n",
       "      <td>yes</td>\n",
       "      <td>17.199391</td>\n",
       "    </tr>\n",
       "    <tr>\n",
       "      <th>2</th>\n",
       "      <td>male</td>\n",
       "      <td>no</td>\n",
       "      <td>76.417910</td>\n",
       "    </tr>\n",
       "    <tr>\n",
       "      <th>3</th>\n",
       "      <td>male</td>\n",
       "      <td>yes</td>\n",
       "      <td>23.582090</td>\n",
       "    </tr>\n",
       "  </tbody>\n",
       "</table>\n",
       "</div>"
      ],
      "text/plain": [
       "      sex smoker  proportion\n",
       "0  female     no   82.800609\n",
       "1  female    yes   17.199391\n",
       "2    male     no   76.417910\n",
       "3    male    yes   23.582090"
      ]
     },
     "execution_count": 16,
     "metadata": {},
     "output_type": "execute_result"
    }
   ],
   "source": [
    "(df.groupby(\"sex\")[\"smoker\"].value_counts(normalize = True) * 100).reset_index()"
   ]
  },
  {
   "cell_type": "code",
   "execution_count": 17,
   "id": "a8253bcb-00e0-47ac-bedf-4c769f0a0bab",
   "metadata": {},
   "outputs": [
    {
     "data": {
      "image/png": "[encoded data removed]",
      "text/plain": [
       "<Figure size 640x480 with 1 Axes>"
      ]
     },
     "metadata": {},
     "output_type": "display_data"
    }
   ],
   "source": [
    "ax = sns.countplot(x = df[\"sex\"],hue = df[\"smoker\"])\n",
    "for i in ax.containers:\n",
    "    ax.bar_label(i)\n",
    "plt.title(\"Ditribution of the Gender With Hue Smoker\")\n",
    "plt.show()"
   ]
  },
  {
   "cell_type": "code",
   "execution_count": 259,
   "id": "fe7b6ceb-4164-4ea4-a899-d01b31f5dbcc",
   "metadata": {},
   "outputs": [
    {
     "data": {
      "text/plain": [
       "children\n",
       "0    571\n",
       "1    320\n",
       "2    237\n",
       "3    157\n",
       "4     25\n",
       "5     17\n",
       "Name: count, dtype: int64"
      ]
     },
     "execution_count": 259,
     "metadata": {},
     "output_type": "execute_result"
    }
   ],
   "source": [
    "df[\"children\"].value_counts()"
   ]
  },
  {
   "cell_type": "code",
   "execution_count": 260,
   "id": "9cdcf207-ef87-4996-a03e-e7f84ebaeb38",
   "metadata": {},
   "outputs": [
    {
     "data": {
      "text/plain": [
       "Text(0.5, 1.0, 'Number of record With Children')"
      ]
     },
     "execution_count": 260,
     "metadata": {},
     "output_type": "execute_result"
    },
    {
     "data": {
      "image/png": "[encoded data removed]",
      "text/plain": [
       "<Figure size 640x480 with 1 Axes>"
      ]
     },
     "metadata": {},
     "output_type": "display_data"
    }
   ],
   "source": [
    "plt.bar(df[\"children\"].value_counts().index,height = df[\"children\"].value_counts().values)\n",
    "plt.title(\"Number of record With Children\")"
   ]
  },
  {
   "cell_type": "code",
   "execution_count": 261,
   "id": "38dfbf5b-aa6a-4f3a-82c0-212071b3f0ea",
   "metadata": {},
   "outputs": [
    {
     "data": {
      "image/png": "[encoded data removed]",
      "text/plain": [
       "<Figure size 640x480 with 1 Axes>"
      ]
     },
     "metadata": {},
     "output_type": "display_data"
    }
   ],
   "source": [
    "ax = sns.countplot(x = df[\"smoker\"])\n",
    "for i in ax.containers:\n",
    "    ax.bar_label(i)\n",
    "plt.title(\"Distribution Of Smokers and NoN Smokers\")\n",
    "plt.show()"
   ]
  },
  {
   "cell_type": "code",
   "execution_count": 262,
   "id": "b21b0d02-0aa9-4e74-bac3-17894a46b1da",
   "metadata": {},
   "outputs": [
    {
     "data": {
      "image/png": "[encoded data removed]",
      "text/plain": [
       "<Figure size 640x480 with 1 Axes>"
      ]
     },
     "metadata": {},
     "output_type": "display_data"
    }
   ],
   "source": [
    "ax = sns.countplot(x = df[\"region\"])\n",
    "for i in ax.containers:\n",
    "    ax.bar_label(i)\n",
    "plt.title(\"Distribution Of Region\")\n",
    "plt.show()"
   ]
  },
  {
   "cell_type": "code",
   "execution_count": 263,
   "id": "54439b35-710b-438d-9d02-e271ffa38959",
   "metadata": {},
   "outputs": [
    {
     "data": {
      "image/png": "[encoded data removed]",
      "text/plain": [
       "<Figure size 640x480 with 1 Axes>"
      ]
     },
     "metadata": {},
     "output_type": "display_data"
    }
   ],
   "source": [
    "ax = sns.barplot(x = df[\"region\"],y = df[\"charges\"],estimator = \"mean\")\n",
    "for i in ax.containers:\n",
    "    ax.bar_label(i)\n",
    "plt.title(\"Distribution Of Region With Mean Charges\")\n",
    "plt.show()"
   ]
  },
  {
   "cell_type": "markdown",
   "id": "8888e854-cf7c-4341-b722-a7d850a9fa24",
   "metadata": {},
   "source": [
    "## **Checking Distribution of Categorical Columns in Target Feature**\n",
    "- Region Shows same median and overlap in distribution\n",
    "- Slight difference in median of Child feature"
   ]
  },
  {
   "cell_type": "code",
   "execution_count": 264,
   "id": "113c602d-e9de-4533-8b35-d1512877a21c",
   "metadata": {},
   "outputs": [
    {
     "data": {
      "image/png": "[encoded data removed]",
      "text/plain": [
       "<Figure size 640x480 with 1 Axes>"
      ]
     },
     "metadata": {},
     "output_type": "display_data"
    }
   ],
   "source": [
    "sns.boxplot(x = df[\"region\"],y = df[\"charges\"])\n",
    "plt.show()"
   ]
  },
  {
   "cell_type": "code",
   "execution_count": 265,
   "id": "2f586d7f-0737-4052-b188-08e7f70ef700",
   "metadata": {},
   "outputs": [
    {
     "data": {
      "image/png": "[encoded data removed]",
      "text/plain": [
       "<Figure size 640x480 with 1 Axes>"
      ]
     },
     "metadata": {},
     "output_type": "display_data"
    }
   ],
   "source": [
    "sns.boxplot(x = df[\"children\"],y = df[\"charges\"])\n",
    "plt.show()"
   ]
  },
  {
   "cell_type": "markdown",
   "id": "9f100eeb-a713-411e-96bb-a9008c3a3aed",
   "metadata": {},
   "source": [
    "- Gender does not strongly affect the typical (median) charge.\n",
    "- But males show more variation in charges.\n",
    "- High-value outliers exist in both groups, but males may have slightly more high-end charges."
   ]
  },
  {
   "cell_type": "code",
   "execution_count": 266,
   "id": "816fa967-d057-4c9c-81a3-52a3e612da84",
   "metadata": {},
   "outputs": [
    {
     "data": {
      "image/png": "[encoded data removed]",
      "text/plain": [
       "<Figure size 640x480 with 1 Axes>"
      ]
     },
     "metadata": {},
     "output_type": "display_data"
    }
   ],
   "source": [
    "sns.boxplot(x = df[\"sex\"],y = df[\"charges\"])\n",
    "plt.show()"
   ]
  },
  {
   "cell_type": "code",
   "execution_count": 267,
   "id": "755e73d2-1a12-480e-910a-090ddb58155f",
   "metadata": {},
   "outputs": [
    {
     "data": {
      "text/html": [
       "<div>\n",
       "<style scoped>\n",
       "    .dataframe tbody tr th:only-of-type {\n",
       "        vertical-align: middle;\n",
       "    }\n",
       "\n",
       "    .dataframe tbody tr th {\n",
       "        vertical-align: top;\n",
       "    }\n",
       "\n",
       "    .dataframe thead th {\n",
       "        text-align: right;\n",
       "    }\n",
       "</style>\n",
       "<table border=\"1\" class=\"dataframe\">\n",
       "  <thead>\n",
       "    <tr style=\"text-align: right;\">\n",
       "      <th></th>\n",
       "      <th>age</th>\n",
       "      <th>sex</th>\n",
       "      <th>bmi</th>\n",
       "      <th>children</th>\n",
       "      <th>smoker</th>\n",
       "      <th>region</th>\n",
       "      <th>charges</th>\n",
       "    </tr>\n",
       "  </thead>\n",
       "  <tbody>\n",
       "    <tr>\n",
       "      <th>1029</th>\n",
       "      <td>37</td>\n",
       "      <td>female</td>\n",
       "      <td>17.29</td>\n",
       "      <td>2</td>\n",
       "      <td>no</td>\n",
       "      <td>northeast</td>\n",
       "      <td>6877.9801</td>\n",
       "    </tr>\n",
       "    <tr>\n",
       "      <th>1158</th>\n",
       "      <td>20</td>\n",
       "      <td>female</td>\n",
       "      <td>30.59</td>\n",
       "      <td>0</td>\n",
       "      <td>no</td>\n",
       "      <td>northeast</td>\n",
       "      <td>2459.7201</td>\n",
       "    </tr>\n",
       "    <tr>\n",
       "      <th>4</th>\n",
       "      <td>32</td>\n",
       "      <td>male</td>\n",
       "      <td>28.88</td>\n",
       "      <td>0</td>\n",
       "      <td>no</td>\n",
       "      <td>northwest</td>\n",
       "      <td>3866.8552</td>\n",
       "    </tr>\n",
       "    <tr>\n",
       "      <th>1090</th>\n",
       "      <td>47</td>\n",
       "      <td>male</td>\n",
       "      <td>36.19</td>\n",
       "      <td>0</td>\n",
       "      <td>yes</td>\n",
       "      <td>southeast</td>\n",
       "      <td>41676.0811</td>\n",
       "    </tr>\n",
       "    <tr>\n",
       "      <th>1316</th>\n",
       "      <td>19</td>\n",
       "      <td>female</td>\n",
       "      <td>20.60</td>\n",
       "      <td>0</td>\n",
       "      <td>no</td>\n",
       "      <td>southwest</td>\n",
       "      <td>1731.6770</td>\n",
       "    </tr>\n",
       "  </tbody>\n",
       "</table>\n",
       "</div>"
      ],
      "text/plain": [
       "      age     sex    bmi  children smoker     region     charges\n",
       "1029   37  female  17.29         2     no  northeast   6877.9801\n",
       "1158   20  female  30.59         0     no  northeast   2459.7201\n",
       "4      32    male  28.88         0     no  northwest   3866.8552\n",
       "1090   47    male  36.19         0    yes  southeast  41676.0811\n",
       "1316   19  female  20.60         0     no  southwest   1731.6770"
      ]
     },
     "execution_count": 267,
     "metadata": {},
     "output_type": "execute_result"
    }
   ],
   "source": [
    "df.sample(5)"
   ]
  },
  {
   "cell_type": "code",
   "execution_count": 268,
   "id": "2633a2bf-fa5a-4d31-86a3-463d118158ef",
   "metadata": {},
   "outputs": [
    {
     "data": {
      "text/html": [
       "<div>\n",
       "<style scoped>\n",
       "    .dataframe tbody tr th:only-of-type {\n",
       "        vertical-align: middle;\n",
       "    }\n",
       "\n",
       "    .dataframe tbody tr th {\n",
       "        vertical-align: top;\n",
       "    }\n",
       "\n",
       "    .dataframe thead th {\n",
       "        text-align: right;\n",
       "    }\n",
       "</style>\n",
       "<table border=\"1\" class=\"dataframe\">\n",
       "  <thead>\n",
       "    <tr style=\"text-align: right;\">\n",
       "      <th></th>\n",
       "      <th>children</th>\n",
       "      <th>charges</th>\n",
       "    </tr>\n",
       "  </thead>\n",
       "  <tbody>\n",
       "    <tr>\n",
       "      <th>0</th>\n",
       "      <td>0</td>\n",
       "      <td>12297.293834</td>\n",
       "    </tr>\n",
       "    <tr>\n",
       "      <th>1</th>\n",
       "      <td>1</td>\n",
       "      <td>12687.898093</td>\n",
       "    </tr>\n",
       "    <tr>\n",
       "      <th>2</th>\n",
       "      <td>2</td>\n",
       "      <td>14981.309869</td>\n",
       "    </tr>\n",
       "    <tr>\n",
       "      <th>3</th>\n",
       "      <td>3</td>\n",
       "      <td>15355.318367</td>\n",
       "    </tr>\n",
       "    <tr>\n",
       "      <th>4</th>\n",
       "      <td>4</td>\n",
       "      <td>13850.656311</td>\n",
       "    </tr>\n",
       "    <tr>\n",
       "      <th>5</th>\n",
       "      <td>5</td>\n",
       "      <td>8562.123526</td>\n",
       "    </tr>\n",
       "  </tbody>\n",
       "</table>\n",
       "</div>"
      ],
      "text/plain": [
       "   children       charges\n",
       "0         0  12297.293834\n",
       "1         1  12687.898093\n",
       "2         2  14981.309869\n",
       "3         3  15355.318367\n",
       "4         4  13850.656311\n",
       "5         5   8562.123526"
      ]
     },
     "execution_count": 268,
     "metadata": {},
     "output_type": "execute_result"
    }
   ],
   "source": [
    "df.groupby(\"children\")[\"charges\"].mean().reset_index()"
   ]
  },
  {
   "cell_type": "markdown",
   "id": "6cd4e80a-b0db-4a45-b770-05d179b136c4",
   "metadata": {},
   "source": [
    "## **People who smokes get higher Charges**"
   ]
  },
  {
   "cell_type": "code",
   "execution_count": 269,
   "id": "9b719aab-d61b-4a57-95f3-2452ef60a1a8",
   "metadata": {},
   "outputs": [
    {
     "data": {
      "text/html": [
       "<div>\n",
       "<style scoped>\n",
       "    .dataframe tbody tr th:only-of-type {\n",
       "        vertical-align: middle;\n",
       "    }\n",
       "\n",
       "    .dataframe tbody tr th {\n",
       "        vertical-align: top;\n",
       "    }\n",
       "\n",
       "    .dataframe thead th {\n",
       "        text-align: right;\n",
       "    }\n",
       "</style>\n",
       "<table border=\"1\" class=\"dataframe\">\n",
       "  <thead>\n",
       "    <tr style=\"text-align: right;\">\n",
       "      <th></th>\n",
       "      <th>smoker</th>\n",
       "      <th>charges</th>\n",
       "    </tr>\n",
       "  </thead>\n",
       "  <tbody>\n",
       "    <tr>\n",
       "      <th>0</th>\n",
       "      <td>no</td>\n",
       "      <td>8435.304843</td>\n",
       "    </tr>\n",
       "    <tr>\n",
       "      <th>1</th>\n",
       "      <td>yes</td>\n",
       "      <td>31835.343855</td>\n",
       "    </tr>\n",
       "  </tbody>\n",
       "</table>\n",
       "</div>"
      ],
      "text/plain": [
       "  smoker       charges\n",
       "0     no   8435.304843\n",
       "1    yes  31835.343855"
      ]
     },
     "execution_count": 269,
     "metadata": {},
     "output_type": "execute_result"
    }
   ],
   "source": [
    "df.groupby(\"smoker\")[\"charges\"].mean().reset_index()"
   ]
  },
  {
   "cell_type": "code",
   "execution_count": 270,
   "id": "888ee0b0-76a0-441a-8fc4-80a5381f4f0d",
   "metadata": {},
   "outputs": [
    {
     "data": {
      "text/html": [
       "<div>\n",
       "<style scoped>\n",
       "    .dataframe tbody tr th:only-of-type {\n",
       "        vertical-align: middle;\n",
       "    }\n",
       "\n",
       "    .dataframe tbody tr th {\n",
       "        vertical-align: top;\n",
       "    }\n",
       "\n",
       "    .dataframe thead th {\n",
       "        text-align: right;\n",
       "    }\n",
       "</style>\n",
       "<table border=\"1\" class=\"dataframe\">\n",
       "  <thead>\n",
       "    <tr style=\"text-align: right;\">\n",
       "      <th></th>\n",
       "      <th>sex</th>\n",
       "      <th>charges</th>\n",
       "    </tr>\n",
       "  </thead>\n",
       "  <tbody>\n",
       "    <tr>\n",
       "      <th>0</th>\n",
       "      <td>female</td>\n",
       "      <td>12446.900114</td>\n",
       "    </tr>\n",
       "    <tr>\n",
       "      <th>1</th>\n",
       "      <td>male</td>\n",
       "      <td>13966.338394</td>\n",
       "    </tr>\n",
       "  </tbody>\n",
       "</table>\n",
       "</div>"
      ],
      "text/plain": [
       "      sex       charges\n",
       "0  female  12446.900114\n",
       "1    male  13966.338394"
      ]
     },
     "execution_count": 270,
     "metadata": {},
     "output_type": "execute_result"
    }
   ],
   "source": [
    "df.groupby(\"sex\")[\"charges\"].mean().reset_index()"
   ]
  },
  {
   "cell_type": "code",
   "execution_count": 271,
   "id": "ddbf791d-2be1-4e65-a19d-3cd5d56cf2e5",
   "metadata": {},
   "outputs": [],
   "source": [
    "df[\"sex_numeric\"] = df[\"sex\"].replace({\"male\":1,\"female\":0})"
   ]
  },
  {
   "cell_type": "code",
   "execution_count": 272,
   "id": "94af70fd-a488-4c36-9db4-9607251863ee",
   "metadata": {},
   "outputs": [],
   "source": [
    "df[\"smoker_numeric\"] = df[\"smoker\"].replace({\"yes\":1,\"no\":0})"
   ]
  },
  {
   "cell_type": "code",
   "execution_count": 273,
   "id": "e7c0082c-dd26-4947-af64-9ba1b44c668e",
   "metadata": {},
   "outputs": [
    {
     "data": {
      "text/html": [
       "<div>\n",
       "<style scoped>\n",
       "    .dataframe tbody tr th:only-of-type {\n",
       "        vertical-align: middle;\n",
       "    }\n",
       "\n",
       "    .dataframe tbody tr th {\n",
       "        vertical-align: top;\n",
       "    }\n",
       "\n",
       "    .dataframe thead th {\n",
       "        text-align: right;\n",
       "    }\n",
       "</style>\n",
       "<table border=\"1\" class=\"dataframe\">\n",
       "  <thead>\n",
       "    <tr style=\"text-align: right;\">\n",
       "      <th></th>\n",
       "      <th>smoker_numeric</th>\n",
       "      <th>sex_numeric</th>\n",
       "      <th>children</th>\n",
       "      <th>age</th>\n",
       "      <th>bmi</th>\n",
       "      <th>charges</th>\n",
       "    </tr>\n",
       "  </thead>\n",
       "  <tbody>\n",
       "    <tr>\n",
       "      <th>smoker_numeric</th>\n",
       "      <td>1.000000</td>\n",
       "      <td>0.079160</td>\n",
       "      <td>0.009136</td>\n",
       "      <td>-0.023778</td>\n",
       "      <td>-0.000789</td>\n",
       "      <td>0.785997</td>\n",
       "    </tr>\n",
       "    <tr>\n",
       "      <th>sex_numeric</th>\n",
       "      <td>0.079160</td>\n",
       "      <td>1.000000</td>\n",
       "      <td>0.022417</td>\n",
       "      <td>-0.017676</td>\n",
       "      <td>0.044400</td>\n",
       "      <td>0.063298</td>\n",
       "    </tr>\n",
       "    <tr>\n",
       "      <th>children</th>\n",
       "      <td>0.009136</td>\n",
       "      <td>0.022417</td>\n",
       "      <td>1.000000</td>\n",
       "      <td>0.040424</td>\n",
       "      <td>0.009230</td>\n",
       "      <td>0.070236</td>\n",
       "    </tr>\n",
       "    <tr>\n",
       "      <th>age</th>\n",
       "      <td>-0.023778</td>\n",
       "      <td>-0.017676</td>\n",
       "      <td>0.040424</td>\n",
       "      <td>1.000000</td>\n",
       "      <td>0.111347</td>\n",
       "      <td>0.302392</td>\n",
       "    </tr>\n",
       "    <tr>\n",
       "      <th>bmi</th>\n",
       "      <td>-0.000789</td>\n",
       "      <td>0.044400</td>\n",
       "      <td>0.009230</td>\n",
       "      <td>0.111347</td>\n",
       "      <td>1.000000</td>\n",
       "      <td>0.194693</td>\n",
       "    </tr>\n",
       "    <tr>\n",
       "      <th>charges</th>\n",
       "      <td>0.785997</td>\n",
       "      <td>0.063298</td>\n",
       "      <td>0.070236</td>\n",
       "      <td>0.302392</td>\n",
       "      <td>0.194693</td>\n",
       "      <td>1.000000</td>\n",
       "    </tr>\n",
       "  </tbody>\n",
       "</table>\n",
       "</div>"
      ],
      "text/plain": [
       "                smoker_numeric  sex_numeric  children       age       bmi  \\\n",
       "smoker_numeric        1.000000     0.079160  0.009136 -0.023778 -0.000789   \n",
       "sex_numeric           0.079160     1.000000  0.022417 -0.017676  0.044400   \n",
       "children              0.009136     0.022417  1.000000  0.040424  0.009230   \n",
       "age                  -0.023778    -0.017676  0.040424  1.000000  0.111347   \n",
       "bmi                  -0.000789     0.044400  0.009230  0.111347  1.000000   \n",
       "charges               0.785997     0.063298  0.070236  0.302392  0.194693   \n",
       "\n",
       "                 charges  \n",
       "smoker_numeric  0.785997  \n",
       "sex_numeric     0.063298  \n",
       "children        0.070236  \n",
       "age             0.302392  \n",
       "bmi             0.194693  \n",
       "charges         1.000000  "
      ]
     },
     "execution_count": 273,
     "metadata": {},
     "output_type": "execute_result"
    }
   ],
   "source": [
    "df[[\"smoker_numeric\",\"sex_numeric\",\"children\",\"age\",\"bmi\",\"charges\"]].corr()"
   ]
  },
  {
   "cell_type": "code",
   "execution_count": 274,
   "id": "b82873c9-e1cc-4a58-bae8-0b201ac506e2",
   "metadata": {},
   "outputs": [
    {
     "data": {
      "image/png": "[encoded data removed]",
      "text/plain": [
       "<Figure size 640x480 with 1 Axes>"
      ]
     },
     "metadata": {},
     "output_type": "display_data"
    }
   ],
   "source": [
    "sns.boxplot(x = df[\"smoker_numeric\"],y = df[\"charges\"])\n",
    "plt.show()"
   ]
  },
  {
   "cell_type": "markdown",
   "id": "bf45219c-e485-4cd7-b164-c02fb6f58013",
   "metadata": {},
   "source": [
    "## **Distribution of Target is Right Skewed we have tried log Transformation on it but Results are not good we decided to not do any thing with target column**"
   ]
  },
  {
   "cell_type": "code",
   "execution_count": 275,
   "id": "0c7caeb8-2dc4-446d-87ed-58f35f504ce6",
   "metadata": {},
   "outputs": [
    {
     "data": {
      "image/png": "[encoded data removed]",
      "text/plain": [
       "<Figure size 640x480 with 1 Axes>"
      ]
     },
     "metadata": {},
     "output_type": "display_data"
    }
   ],
   "source": [
    "sns.histplot(df[\"charges\"],kde = True)\n",
    "plt.title(\"Distribution Of the Target\")\n",
    "plt.show()"
   ]
  },
  {
   "cell_type": "code",
   "execution_count": 277,
   "id": "5d8adc14-a5a8-4ee7-b40e-baf4269ddd3e",
   "metadata": {},
   "outputs": [
    {
     "data": {
      "text/html": [
       "<div>\n",
       "<style scoped>\n",
       "    .dataframe tbody tr th:only-of-type {\n",
       "        vertical-align: middle;\n",
       "    }\n",
       "\n",
       "    .dataframe tbody tr th {\n",
       "        vertical-align: top;\n",
       "    }\n",
       "\n",
       "    .dataframe thead th {\n",
       "        text-align: right;\n",
       "    }\n",
       "</style>\n",
       "<table border=\"1\" class=\"dataframe\">\n",
       "  <thead>\n",
       "    <tr style=\"text-align: right;\">\n",
       "      <th></th>\n",
       "      <th>age</th>\n",
       "      <th>sex</th>\n",
       "      <th>bmi</th>\n",
       "      <th>children</th>\n",
       "      <th>smoker</th>\n",
       "      <th>region</th>\n",
       "      <th>charges</th>\n",
       "      <th>sex_numeric</th>\n",
       "      <th>smoker_numeric</th>\n",
       "    </tr>\n",
       "  </thead>\n",
       "  <tbody>\n",
       "    <tr>\n",
       "      <th>0</th>\n",
       "      <td>19</td>\n",
       "      <td>female</td>\n",
       "      <td>27.900</td>\n",
       "      <td>0</td>\n",
       "      <td>yes</td>\n",
       "      <td>southwest</td>\n",
       "      <td>16884.92400</td>\n",
       "      <td>0</td>\n",
       "      <td>1</td>\n",
       "    </tr>\n",
       "    <tr>\n",
       "      <th>1</th>\n",
       "      <td>18</td>\n",
       "      <td>male</td>\n",
       "      <td>33.770</td>\n",
       "      <td>1</td>\n",
       "      <td>no</td>\n",
       "      <td>southeast</td>\n",
       "      <td>1725.55230</td>\n",
       "      <td>1</td>\n",
       "      <td>0</td>\n",
       "    </tr>\n",
       "    <tr>\n",
       "      <th>2</th>\n",
       "      <td>28</td>\n",
       "      <td>male</td>\n",
       "      <td>33.000</td>\n",
       "      <td>3</td>\n",
       "      <td>no</td>\n",
       "      <td>southeast</td>\n",
       "      <td>4449.46200</td>\n",
       "      <td>1</td>\n",
       "      <td>0</td>\n",
       "    </tr>\n",
       "    <tr>\n",
       "      <th>3</th>\n",
       "      <td>33</td>\n",
       "      <td>male</td>\n",
       "      <td>22.705</td>\n",
       "      <td>0</td>\n",
       "      <td>no</td>\n",
       "      <td>northwest</td>\n",
       "      <td>21984.47061</td>\n",
       "      <td>1</td>\n",
       "      <td>0</td>\n",
       "    </tr>\n",
       "    <tr>\n",
       "      <th>4</th>\n",
       "      <td>32</td>\n",
       "      <td>male</td>\n",
       "      <td>28.880</td>\n",
       "      <td>0</td>\n",
       "      <td>no</td>\n",
       "      <td>northwest</td>\n",
       "      <td>3866.85520</td>\n",
       "      <td>1</td>\n",
       "      <td>0</td>\n",
       "    </tr>\n",
       "  </tbody>\n",
       "</table>\n",
       "</div>"
      ],
      "text/plain": [
       "   age     sex     bmi  children smoker     region      charges  sex_numeric  \\\n",
       "0   19  female  27.900         0    yes  southwest  16884.92400            0   \n",
       "1   18    male  33.770         1     no  southeast   1725.55230            1   \n",
       "2   28    male  33.000         3     no  southeast   4449.46200            1   \n",
       "3   33    male  22.705         0     no  northwest  21984.47061            1   \n",
       "4   32    male  28.880         0     no  northwest   3866.85520            1   \n",
       "\n",
       "   smoker_numeric  \n",
       "0               1  \n",
       "1               0  \n",
       "2               0  \n",
       "3               0  \n",
       "4               0  "
      ]
     },
     "execution_count": 277,
     "metadata": {},
     "output_type": "execute_result"
    }
   ],
   "source": [
    "df.head()"
   ]
  },
  {
   "cell_type": "markdown",
   "id": "792f6539-b527-425f-a077-e55876ae2ac8",
   "metadata": {},
   "source": [
    "## **Making Separate Columns for region feature**"
   ]
  },
  {
   "cell_type": "code",
   "execution_count": 278,
   "id": "02fbc4c3-30ad-47d3-8fb1-f29e7224afef",
   "metadata": {},
   "outputs": [
    {
     "data": {
      "text/html": [
       "<div>\n",
       "<style scoped>\n",
       "    .dataframe tbody tr th:only-of-type {\n",
       "        vertical-align: middle;\n",
       "    }\n",
       "\n",
       "    .dataframe tbody tr th {\n",
       "        vertical-align: top;\n",
       "    }\n",
       "\n",
       "    .dataframe thead th {\n",
       "        text-align: right;\n",
       "    }\n",
       "</style>\n",
       "<table border=\"1\" class=\"dataframe\">\n",
       "  <thead>\n",
       "    <tr style=\"text-align: right;\">\n",
       "      <th></th>\n",
       "      <th>age</th>\n",
       "      <th>bmi</th>\n",
       "      <th>children</th>\n",
       "      <th>charges</th>\n",
       "      <th>sex_numeric</th>\n",
       "      <th>smoker_numeric</th>\n",
       "      <th>region_northwest</th>\n",
       "      <th>region_southeast</th>\n",
       "      <th>region_southwest</th>\n",
       "    </tr>\n",
       "  </thead>\n",
       "  <tbody>\n",
       "    <tr>\n",
       "      <th>0</th>\n",
       "      <td>19</td>\n",
       "      <td>27.900</td>\n",
       "      <td>0</td>\n",
       "      <td>16884.92400</td>\n",
       "      <td>0</td>\n",
       "      <td>1</td>\n",
       "      <td>False</td>\n",
       "      <td>False</td>\n",
       "      <td>True</td>\n",
       "    </tr>\n",
       "    <tr>\n",
       "      <th>1</th>\n",
       "      <td>18</td>\n",
       "      <td>33.770</td>\n",
       "      <td>1</td>\n",
       "      <td>1725.55230</td>\n",
       "      <td>1</td>\n",
       "      <td>0</td>\n",
       "      <td>False</td>\n",
       "      <td>True</td>\n",
       "      <td>False</td>\n",
       "    </tr>\n",
       "    <tr>\n",
       "      <th>2</th>\n",
       "      <td>28</td>\n",
       "      <td>33.000</td>\n",
       "      <td>3</td>\n",
       "      <td>4449.46200</td>\n",
       "      <td>1</td>\n",
       "      <td>0</td>\n",
       "      <td>False</td>\n",
       "      <td>True</td>\n",
       "      <td>False</td>\n",
       "    </tr>\n",
       "    <tr>\n",
       "      <th>3</th>\n",
       "      <td>33</td>\n",
       "      <td>22.705</td>\n",
       "      <td>0</td>\n",
       "      <td>21984.47061</td>\n",
       "      <td>1</td>\n",
       "      <td>0</td>\n",
       "      <td>True</td>\n",
       "      <td>False</td>\n",
       "      <td>False</td>\n",
       "    </tr>\n",
       "    <tr>\n",
       "      <th>4</th>\n",
       "      <td>32</td>\n",
       "      <td>28.880</td>\n",
       "      <td>0</td>\n",
       "      <td>3866.85520</td>\n",
       "      <td>1</td>\n",
       "      <td>0</td>\n",
       "      <td>True</td>\n",
       "      <td>False</td>\n",
       "      <td>False</td>\n",
       "    </tr>\n",
       "  </tbody>\n",
       "</table>\n",
       "</div>"
      ],
      "text/plain": [
       "   age     bmi  children      charges  sex_numeric  smoker_numeric  \\\n",
       "0   19  27.900         0  16884.92400            0               1   \n",
       "1   18  33.770         1   1725.55230            1               0   \n",
       "2   28  33.000         3   4449.46200            1               0   \n",
       "3   33  22.705         0  21984.47061            1               0   \n",
       "4   32  28.880         0   3866.85520            1               0   \n",
       "\n",
       "   region_northwest  region_southeast  region_southwest  \n",
       "0             False             False              True  \n",
       "1             False              True             False  \n",
       "2             False              True             False  \n",
       "3              True             False             False  \n",
       "4              True             False             False  "
      ]
     },
     "execution_count": 278,
     "metadata": {},
     "output_type": "execute_result"
    }
   ],
   "source": [
    "df = pd.get_dummies(df, columns=['region'], drop_first=True)\n",
    "df.drop(columns = [\"sex\",\"smoker\"],inplace = True)\n",
    "df.head()"
   ]
  },
  {
   "cell_type": "code",
   "execution_count": 189,
   "id": "f230bc09-a642-4bd2-9684-f9ac0a5bc4d0",
   "metadata": {},
   "outputs": [
    {
     "data": {
      "text/html": [
       "<div>\n",
       "<style scoped>\n",
       "    .dataframe tbody tr th:only-of-type {\n",
       "        vertical-align: middle;\n",
       "    }\n",
       "\n",
       "    .dataframe tbody tr th {\n",
       "        vertical-align: top;\n",
       "    }\n",
       "\n",
       "    .dataframe thead th {\n",
       "        text-align: right;\n",
       "    }\n",
       "</style>\n",
       "<table border=\"1\" class=\"dataframe\">\n",
       "  <thead>\n",
       "    <tr style=\"text-align: right;\">\n",
       "      <th></th>\n",
       "      <th>age</th>\n",
       "      <th>bmi</th>\n",
       "      <th>children</th>\n",
       "      <th>charges</th>\n",
       "      <th>sex_numeric</th>\n",
       "      <th>smoker_numeric</th>\n",
       "      <th>region_northwest</th>\n",
       "      <th>region_southeast</th>\n",
       "      <th>region_southwest</th>\n",
       "    </tr>\n",
       "  </thead>\n",
       "  <tbody>\n",
       "    <tr>\n",
       "      <th>0</th>\n",
       "      <td>19.0</td>\n",
       "      <td>27.900</td>\n",
       "      <td>0.0</td>\n",
       "      <td>16884.92400</td>\n",
       "      <td>0.0</td>\n",
       "      <td>1.0</td>\n",
       "      <td>0.0</td>\n",
       "      <td>0.0</td>\n",
       "      <td>1.0</td>\n",
       "    </tr>\n",
       "    <tr>\n",
       "      <th>1</th>\n",
       "      <td>18.0</td>\n",
       "      <td>33.770</td>\n",
       "      <td>1.0</td>\n",
       "      <td>1725.55230</td>\n",
       "      <td>1.0</td>\n",
       "      <td>0.0</td>\n",
       "      <td>0.0</td>\n",
       "      <td>1.0</td>\n",
       "      <td>0.0</td>\n",
       "    </tr>\n",
       "    <tr>\n",
       "      <th>2</th>\n",
       "      <td>28.0</td>\n",
       "      <td>33.000</td>\n",
       "      <td>3.0</td>\n",
       "      <td>4449.46200</td>\n",
       "      <td>1.0</td>\n",
       "      <td>0.0</td>\n",
       "      <td>0.0</td>\n",
       "      <td>1.0</td>\n",
       "      <td>0.0</td>\n",
       "    </tr>\n",
       "    <tr>\n",
       "      <th>3</th>\n",
       "      <td>33.0</td>\n",
       "      <td>22.705</td>\n",
       "      <td>0.0</td>\n",
       "      <td>21984.47061</td>\n",
       "      <td>1.0</td>\n",
       "      <td>0.0</td>\n",
       "      <td>1.0</td>\n",
       "      <td>0.0</td>\n",
       "      <td>0.0</td>\n",
       "    </tr>\n",
       "    <tr>\n",
       "      <th>4</th>\n",
       "      <td>32.0</td>\n",
       "      <td>28.880</td>\n",
       "      <td>0.0</td>\n",
       "      <td>3866.85520</td>\n",
       "      <td>1.0</td>\n",
       "      <td>0.0</td>\n",
       "      <td>1.0</td>\n",
       "      <td>0.0</td>\n",
       "      <td>0.0</td>\n",
       "    </tr>\n",
       "  </tbody>\n",
       "</table>\n",
       "</div>"
      ],
      "text/plain": [
       "    age     bmi  children      charges  sex_numeric  smoker_numeric  \\\n",
       "0  19.0  27.900       0.0  16884.92400          0.0             1.0   \n",
       "1  18.0  33.770       1.0   1725.55230          1.0             0.0   \n",
       "2  28.0  33.000       3.0   4449.46200          1.0             0.0   \n",
       "3  33.0  22.705       0.0  21984.47061          1.0             0.0   \n",
       "4  32.0  28.880       0.0   3866.85520          1.0             0.0   \n",
       "\n",
       "   region_northwest  region_southeast  region_southwest  \n",
       "0               0.0               0.0               1.0  \n",
       "1               0.0               1.0               0.0  \n",
       "2               0.0               1.0               0.0  \n",
       "3               1.0               0.0               0.0  \n",
       "4               1.0               0.0               0.0  "
      ]
     },
     "execution_count": 189,
     "metadata": {},
     "output_type": "execute_result"
    }
   ],
   "source": [
    "df = df.astype(float)\n",
    "df.head()"
   ]
  },
  {
   "cell_type": "markdown",
   "id": "22534a8f-41b9-4e90-8384-2bb85d9cf6a0",
   "metadata": {},
   "source": [
    "## **Extracting Important Features**"
   ]
  },
  {
   "cell_type": "code",
   "execution_count": 190,
   "id": "08211c95-4d4a-4147-b5cc-b245c5b6c558",
   "metadata": {},
   "outputs": [
    {
     "name": "stdout",
     "output_type": "stream",
     "text": [
      "age                  | F-score: 133.35 | p-value: 0.00000\n",
      "bmi                  | F-score: 52.20 | p-value: 0.00000\n",
      "children             | F-score: 6.57 | p-value: 0.01049\n",
      "sex_numeric          | F-score: 5.33 | p-value: 0.02111\n",
      "smoker_numeric       | F-score: 2141.70 | p-value: 0.00000\n",
      "region_northwest     | F-score: 1.90 | p-value: 0.16881\n",
      "region_southeast     | F-score: 6.84 | p-value: 0.00900\n",
      "region_southwest     | F-score: 2.79 | p-value: 0.09536\n"
     ]
    }
   ],
   "source": [
    "from sklearn.feature_selection import f_regression\n",
    "\n",
    "X = df.drop('charges', axis=1)\n",
    "y = df['charges']               \n",
    "\n",
    "F, p = f_regression(X, y)\n",
    "\n",
    "for feature, f_val, p_val in zip(X.columns, F, p):\n",
    "    print(f\"{feature:20s} | F-score: {f_val:.2f} | p-value: {p_val:.5f}\")\n"
   ]
  },
  {
   "cell_type": "markdown",
   "id": "db37cdd2-8ab5-4c39-b09a-9e9d043e0b35",
   "metadata": {},
   "source": [
    "| Feature            | F-score | p-value | Interpretation         |\n",
    "| ------------------ | ------- | ------- | ---------------------- |\n",
    "| `age`              | 133.35  | 0.00000 |  Very important       |\n",
    "| `bmi`              | 52.20   | 0.00000 |  Very important       |\n",
    "| `children`         | 6.57    | 0.01049 |  Important            |\n",
    "| `sex_numeric`      | 5.33    | 0.02111 |  Slightly important   |\n",
    "| `smoker_numeric`   | 2141.70 | 0.00000 |  Extremely important! |\n",
    "| `region_northwest` | 1.90    | 0.16881 |  Not significant      |\n",
    "| `region_southeast` | 6.84    | 0.00900 |  Important            |\n",
    "| `region_southwest` | 2.79    | 0.09536 |  Not significant      |"
   ]
  },
  {
   "cell_type": "code",
   "execution_count": 191,
   "id": "5724c8bc-5059-43d1-a056-42ddf837e1a6",
   "metadata": {},
   "outputs": [
    {
     "data": {
      "text/html": [
       "<div>\n",
       "<style scoped>\n",
       "    .dataframe tbody tr th:only-of-type {\n",
       "        vertical-align: middle;\n",
       "    }\n",
       "\n",
       "    .dataframe tbody tr th {\n",
       "        vertical-align: top;\n",
       "    }\n",
       "\n",
       "    .dataframe thead th {\n",
       "        text-align: right;\n",
       "    }\n",
       "</style>\n",
       "<table border=\"1\" class=\"dataframe\">\n",
       "  <thead>\n",
       "    <tr style=\"text-align: right;\">\n",
       "      <th></th>\n",
       "      <th>age</th>\n",
       "      <th>bmi</th>\n",
       "      <th>children</th>\n",
       "      <th>charges</th>\n",
       "      <th>sex_numeric</th>\n",
       "      <th>smoker_numeric</th>\n",
       "      <th>region_northwest</th>\n",
       "      <th>region_southeast</th>\n",
       "      <th>region_southwest</th>\n",
       "    </tr>\n",
       "  </thead>\n",
       "  <tbody>\n",
       "    <tr>\n",
       "      <th>age</th>\n",
       "      <td>1.000000</td>\n",
       "      <td>0.111347</td>\n",
       "      <td>0.040424</td>\n",
       "      <td>0.302392</td>\n",
       "      <td>-0.017676</td>\n",
       "      <td>-0.023778</td>\n",
       "      <td>0.000560</td>\n",
       "      <td>-0.012256</td>\n",
       "      <td>0.009485</td>\n",
       "    </tr>\n",
       "    <tr>\n",
       "      <th>bmi</th>\n",
       "      <td>0.111347</td>\n",
       "      <td>1.000000</td>\n",
       "      <td>0.009230</td>\n",
       "      <td>0.194693</td>\n",
       "      <td>0.044400</td>\n",
       "      <td>-0.000789</td>\n",
       "      <td>-0.127001</td>\n",
       "      <td>0.255444</td>\n",
       "      <td>-0.001814</td>\n",
       "    </tr>\n",
       "    <tr>\n",
       "      <th>children</th>\n",
       "      <td>0.040424</td>\n",
       "      <td>0.009230</td>\n",
       "      <td>1.000000</td>\n",
       "      <td>0.070236</td>\n",
       "      <td>0.022417</td>\n",
       "      <td>0.009136</td>\n",
       "      <td>0.026031</td>\n",
       "      <td>-0.022611</td>\n",
       "      <td>0.020519</td>\n",
       "    </tr>\n",
       "    <tr>\n",
       "      <th>charges</th>\n",
       "      <td>0.302392</td>\n",
       "      <td>0.194693</td>\n",
       "      <td>0.070236</td>\n",
       "      <td>1.000000</td>\n",
       "      <td>0.063298</td>\n",
       "      <td>0.785997</td>\n",
       "      <td>-0.037796</td>\n",
       "      <td>0.071681</td>\n",
       "      <td>-0.045803</td>\n",
       "    </tr>\n",
       "    <tr>\n",
       "      <th>sex_numeric</th>\n",
       "      <td>-0.017676</td>\n",
       "      <td>0.044400</td>\n",
       "      <td>0.022417</td>\n",
       "      <td>0.063298</td>\n",
       "      <td>1.000000</td>\n",
       "      <td>0.079160</td>\n",
       "      <td>-0.010837</td>\n",
       "      <td>0.011077</td>\n",
       "      <td>-0.000288</td>\n",
       "    </tr>\n",
       "    <tr>\n",
       "      <th>smoker_numeric</th>\n",
       "      <td>-0.023778</td>\n",
       "      <td>-0.000789</td>\n",
       "      <td>0.009136</td>\n",
       "      <td>0.785997</td>\n",
       "      <td>0.079160</td>\n",
       "      <td>1.000000</td>\n",
       "      <td>-0.036390</td>\n",
       "      <td>0.068761</td>\n",
       "      <td>-0.039043</td>\n",
       "    </tr>\n",
       "    <tr>\n",
       "      <th>region_northwest</th>\n",
       "      <td>0.000560</td>\n",
       "      <td>-0.127001</td>\n",
       "      <td>0.026031</td>\n",
       "      <td>-0.037796</td>\n",
       "      <td>-0.010837</td>\n",
       "      <td>-0.036390</td>\n",
       "      <td>1.000000</td>\n",
       "      <td>-0.344844</td>\n",
       "      <td>-0.323030</td>\n",
       "    </tr>\n",
       "    <tr>\n",
       "      <th>region_southeast</th>\n",
       "      <td>-0.012256</td>\n",
       "      <td>0.255444</td>\n",
       "      <td>-0.022611</td>\n",
       "      <td>0.071681</td>\n",
       "      <td>0.011077</td>\n",
       "      <td>0.068761</td>\n",
       "      <td>-0.344844</td>\n",
       "      <td>1.000000</td>\n",
       "      <td>-0.343439</td>\n",
       "    </tr>\n",
       "    <tr>\n",
       "      <th>region_southwest</th>\n",
       "      <td>0.009485</td>\n",
       "      <td>-0.001814</td>\n",
       "      <td>0.020519</td>\n",
       "      <td>-0.045803</td>\n",
       "      <td>-0.000288</td>\n",
       "      <td>-0.039043</td>\n",
       "      <td>-0.323030</td>\n",
       "      <td>-0.343439</td>\n",
       "      <td>1.000000</td>\n",
       "    </tr>\n",
       "  </tbody>\n",
       "</table>\n",
       "</div>"
      ],
      "text/plain": [
       "                       age       bmi  children   charges  sex_numeric  \\\n",
       "age               1.000000  0.111347  0.040424  0.302392    -0.017676   \n",
       "bmi               0.111347  1.000000  0.009230  0.194693     0.044400   \n",
       "children          0.040424  0.009230  1.000000  0.070236     0.022417   \n",
       "charges           0.302392  0.194693  0.070236  1.000000     0.063298   \n",
       "sex_numeric      -0.017676  0.044400  0.022417  0.063298     1.000000   \n",
       "smoker_numeric   -0.023778 -0.000789  0.009136  0.785997     0.079160   \n",
       "region_northwest  0.000560 -0.127001  0.026031 -0.037796    -0.010837   \n",
       "region_southeast -0.012256  0.255444 -0.022611  0.071681     0.011077   \n",
       "region_southwest  0.009485 -0.001814  0.020519 -0.045803    -0.000288   \n",
       "\n",
       "                  smoker_numeric  region_northwest  region_southeast  \\\n",
       "age                    -0.023778          0.000560         -0.012256   \n",
       "bmi                    -0.000789         -0.127001          0.255444   \n",
       "children                0.009136          0.026031         -0.022611   \n",
       "charges                 0.785997         -0.037796          0.071681   \n",
       "sex_numeric             0.079160         -0.010837          0.011077   \n",
       "smoker_numeric          1.000000         -0.036390          0.068761   \n",
       "region_northwest       -0.036390          1.000000         -0.344844   \n",
       "region_southeast        0.068761         -0.344844          1.000000   \n",
       "region_southwest       -0.039043         -0.323030         -0.343439   \n",
       "\n",
       "                  region_southwest  \n",
       "age                       0.009485  \n",
       "bmi                      -0.001814  \n",
       "children                  0.020519  \n",
       "charges                  -0.045803  \n",
       "sex_numeric              -0.000288  \n",
       "smoker_numeric           -0.039043  \n",
       "region_northwest         -0.323030  \n",
       "region_southeast         -0.343439  \n",
       "region_southwest          1.000000  "
      ]
     },
     "execution_count": 191,
     "metadata": {},
     "output_type": "execute_result"
    }
   ],
   "source": [
    "df.corr()"
   ]
  },
  {
   "cell_type": "code",
   "execution_count": 192,
   "id": "6ef0938e-3d4b-47f9-9c6f-2907fe5bd427",
   "metadata": {},
   "outputs": [
    {
     "data": {
      "image/png": "[encoded data removed]",
      "text/plain": [
       "<Figure size 1000x600 with 2 Axes>"
      ]
     },
     "metadata": {},
     "output_type": "display_data"
    }
   ],
   "source": [
    "plt.figure(figsize = (10,6))\n",
    "sns.heatmap(df.corr(),annot = True)\n",
    "plt.show()"
   ]
  },
  {
   "cell_type": "code",
   "execution_count": 193,
   "id": "e3182f9e-6e01-4b58-8c54-51bff16509a9",
   "metadata": {},
   "outputs": [],
   "source": [
    "df.drop(columns = [\"region_northwest\",\"region_southwest\"],inplace = True)"
   ]
  },
  {
   "cell_type": "code",
   "execution_count": 194,
   "id": "e56fd6fe-9444-442a-8a38-5f626dc8b23d",
   "metadata": {},
   "outputs": [
    {
     "data": {
      "text/html": [
       "<div>\n",
       "<style scoped>\n",
       "    .dataframe tbody tr th:only-of-type {\n",
       "        vertical-align: middle;\n",
       "    }\n",
       "\n",
       "    .dataframe tbody tr th {\n",
       "        vertical-align: top;\n",
       "    }\n",
       "\n",
       "    .dataframe thead th {\n",
       "        text-align: right;\n",
       "    }\n",
       "</style>\n",
       "<table border=\"1\" class=\"dataframe\">\n",
       "  <thead>\n",
       "    <tr style=\"text-align: right;\">\n",
       "      <th></th>\n",
       "      <th>age</th>\n",
       "      <th>bmi</th>\n",
       "      <th>children</th>\n",
       "      <th>charges</th>\n",
       "      <th>sex_numeric</th>\n",
       "      <th>smoker_numeric</th>\n",
       "      <th>region_southeast</th>\n",
       "    </tr>\n",
       "  </thead>\n",
       "  <tbody>\n",
       "    <tr>\n",
       "      <th>0</th>\n",
       "      <td>19.0</td>\n",
       "      <td>27.900</td>\n",
       "      <td>0.0</td>\n",
       "      <td>16884.92400</td>\n",
       "      <td>0.0</td>\n",
       "      <td>1.0</td>\n",
       "      <td>0.0</td>\n",
       "    </tr>\n",
       "    <tr>\n",
       "      <th>1</th>\n",
       "      <td>18.0</td>\n",
       "      <td>33.770</td>\n",
       "      <td>1.0</td>\n",
       "      <td>1725.55230</td>\n",
       "      <td>1.0</td>\n",
       "      <td>0.0</td>\n",
       "      <td>1.0</td>\n",
       "    </tr>\n",
       "    <tr>\n",
       "      <th>2</th>\n",
       "      <td>28.0</td>\n",
       "      <td>33.000</td>\n",
       "      <td>3.0</td>\n",
       "      <td>4449.46200</td>\n",
       "      <td>1.0</td>\n",
       "      <td>0.0</td>\n",
       "      <td>1.0</td>\n",
       "    </tr>\n",
       "    <tr>\n",
       "      <th>3</th>\n",
       "      <td>33.0</td>\n",
       "      <td>22.705</td>\n",
       "      <td>0.0</td>\n",
       "      <td>21984.47061</td>\n",
       "      <td>1.0</td>\n",
       "      <td>0.0</td>\n",
       "      <td>0.0</td>\n",
       "    </tr>\n",
       "    <tr>\n",
       "      <th>4</th>\n",
       "      <td>32.0</td>\n",
       "      <td>28.880</td>\n",
       "      <td>0.0</td>\n",
       "      <td>3866.85520</td>\n",
       "      <td>1.0</td>\n",
       "      <td>0.0</td>\n",
       "      <td>0.0</td>\n",
       "    </tr>\n",
       "  </tbody>\n",
       "</table>\n",
       "</div>"
      ],
      "text/plain": [
       "    age     bmi  children      charges  sex_numeric  smoker_numeric  \\\n",
       "0  19.0  27.900       0.0  16884.92400          0.0             1.0   \n",
       "1  18.0  33.770       1.0   1725.55230          1.0             0.0   \n",
       "2  28.0  33.000       3.0   4449.46200          1.0             0.0   \n",
       "3  33.0  22.705       0.0  21984.47061          1.0             0.0   \n",
       "4  32.0  28.880       0.0   3866.85520          1.0             0.0   \n",
       "\n",
       "   region_southeast  \n",
       "0               0.0  \n",
       "1               1.0  \n",
       "2               1.0  \n",
       "3               0.0  \n",
       "4               0.0  "
      ]
     },
     "execution_count": 194,
     "metadata": {},
     "output_type": "execute_result"
    }
   ],
   "source": [
    "df.head()"
   ]
  },
  {
   "cell_type": "code",
   "execution_count": 195,
   "id": "63f933fa-c5f2-47e3-a848-4a18219cbaf9",
   "metadata": {},
   "outputs": [],
   "source": [
    "df.rename(columns = {\"smoker_numeric\":\"smoker\",\"sex_numeric\":\"sex\"},inplace = True)"
   ]
  },
  {
   "cell_type": "code",
   "execution_count": 196,
   "id": "2bef4c74-0d6b-4643-b421-4f6e0027e1f0",
   "metadata": {},
   "outputs": [
    {
     "data": {
      "text/html": [
       "<div>\n",
       "<style scoped>\n",
       "    .dataframe tbody tr th:only-of-type {\n",
       "        vertical-align: middle;\n",
       "    }\n",
       "\n",
       "    .dataframe tbody tr th {\n",
       "        vertical-align: top;\n",
       "    }\n",
       "\n",
       "    .dataframe thead th {\n",
       "        text-align: right;\n",
       "    }\n",
       "</style>\n",
       "<table border=\"1\" class=\"dataframe\">\n",
       "  <thead>\n",
       "    <tr style=\"text-align: right;\">\n",
       "      <th></th>\n",
       "      <th>age</th>\n",
       "      <th>bmi</th>\n",
       "      <th>children</th>\n",
       "      <th>charges</th>\n",
       "      <th>sex</th>\n",
       "      <th>smoker</th>\n",
       "      <th>region_southeast</th>\n",
       "    </tr>\n",
       "  </thead>\n",
       "  <tbody>\n",
       "    <tr>\n",
       "      <th>0</th>\n",
       "      <td>19.0</td>\n",
       "      <td>27.900</td>\n",
       "      <td>0.0</td>\n",
       "      <td>16884.92400</td>\n",
       "      <td>0.0</td>\n",
       "      <td>1.0</td>\n",
       "      <td>0.0</td>\n",
       "    </tr>\n",
       "    <tr>\n",
       "      <th>1</th>\n",
       "      <td>18.0</td>\n",
       "      <td>33.770</td>\n",
       "      <td>1.0</td>\n",
       "      <td>1725.55230</td>\n",
       "      <td>1.0</td>\n",
       "      <td>0.0</td>\n",
       "      <td>1.0</td>\n",
       "    </tr>\n",
       "    <tr>\n",
       "      <th>2</th>\n",
       "      <td>28.0</td>\n",
       "      <td>33.000</td>\n",
       "      <td>3.0</td>\n",
       "      <td>4449.46200</td>\n",
       "      <td>1.0</td>\n",
       "      <td>0.0</td>\n",
       "      <td>1.0</td>\n",
       "    </tr>\n",
       "    <tr>\n",
       "      <th>3</th>\n",
       "      <td>33.0</td>\n",
       "      <td>22.705</td>\n",
       "      <td>0.0</td>\n",
       "      <td>21984.47061</td>\n",
       "      <td>1.0</td>\n",
       "      <td>0.0</td>\n",
       "      <td>0.0</td>\n",
       "    </tr>\n",
       "    <tr>\n",
       "      <th>4</th>\n",
       "      <td>32.0</td>\n",
       "      <td>28.880</td>\n",
       "      <td>0.0</td>\n",
       "      <td>3866.85520</td>\n",
       "      <td>1.0</td>\n",
       "      <td>0.0</td>\n",
       "      <td>0.0</td>\n",
       "    </tr>\n",
       "  </tbody>\n",
       "</table>\n",
       "</div>"
      ],
      "text/plain": [
       "    age     bmi  children      charges  sex  smoker  region_southeast\n",
       "0  19.0  27.900       0.0  16884.92400  0.0     1.0               0.0\n",
       "1  18.0  33.770       1.0   1725.55230  1.0     0.0               1.0\n",
       "2  28.0  33.000       3.0   4449.46200  1.0     0.0               1.0\n",
       "3  33.0  22.705       0.0  21984.47061  1.0     0.0               0.0\n",
       "4  32.0  28.880       0.0   3866.85520  1.0     0.0               0.0"
      ]
     },
     "execution_count": 196,
     "metadata": {},
     "output_type": "execute_result"
    }
   ],
   "source": [
    "df.head()"
   ]
  },
  {
   "cell_type": "markdown",
   "id": "55273556-f674-4d5f-99e9-178e1309b060",
   "metadata": {},
   "source": [
    "## **Model Building**"
   ]
  },
  {
   "cell_type": "code",
   "execution_count": 197,
   "id": "be71dc6b-6642-429a-b1e7-0f47578cfc6e",
   "metadata": {},
   "outputs": [],
   "source": [
    "x = df.drop([\"charges\"],axis = 1)\n",
    "y = (df[\"charges\"])"
   ]
  },
  {
   "cell_type": "code",
   "execution_count": 198,
   "id": "0779f7fb-812b-472e-99a7-a5e288c93509",
   "metadata": {},
   "outputs": [],
   "source": [
    "scale = StandardScaler()\n",
    "x1 = scale.fit_transform(x)"
   ]
  },
  {
   "cell_type": "code",
   "execution_count": 199,
   "id": "2204ecdf-5463-41d1-9300-f65044c96c86",
   "metadata": {},
   "outputs": [],
   "source": [
    "x_train,x_test,y_train,y_test = train_test_split(x1,y,test_size = 0.2,random_state = 42)"
   ]
  },
  {
   "cell_type": "code",
   "execution_count": 200,
   "id": "3bd6b334-1d1e-42fd-bb32-cc08975f877f",
   "metadata": {},
   "outputs": [
    {
     "data": {
      "text/plain": [
       "array([[-1.00998883, -1.12299218,  3.24699714,  0.99025099, -0.50658542,\n",
       "        -0.60550172],\n",
       "       [ 0.69906618, -0.0361626 , -0.90803199,  0.99025099, -0.50658542,\n",
       "        -0.60550172],\n",
       "       [-0.15546133,  0.62612417, -0.07702616,  0.99025099,  1.97400075,\n",
       "        -0.60550172],\n",
       "       ...,\n",
       "       [ 0.2005918 , -1.00327111,  0.75397966,  0.99025099,  1.97400075,\n",
       "        -0.60550172],\n",
       "       [ 1.55359368, -1.16459737, -0.90803199,  0.99025099, -0.50658542,\n",
       "        -0.60550172],\n",
       "       [ 0.34301305, -0.93619334, -0.07702616, -1.00984499, -0.50658542,\n",
       "        -0.60550172]])"
      ]
     },
     "execution_count": 200,
     "metadata": {},
     "output_type": "execute_result"
    }
   ],
   "source": [
    "x_train"
   ]
  },
  {
   "cell_type": "code",
   "execution_count": 201,
   "id": "d5e01b6e-24ed-4c21-96bd-2b0e6e01938e",
   "metadata": {},
   "outputs": [
    {
     "data": {
      "text/plain": [
       "array([[-1.50846321,  1.65521593, -0.90803199, -1.00984499, -0.50658542,\n",
       "         1.65152296],\n",
       "       [ 1.48238306, -0.32570079, -0.90803199,  0.99025099, -0.50658542,\n",
       "        -0.60550172],\n",
       "       [ 0.27180243,  2.66392963, -0.90803199, -1.00984499,  1.97400075,\n",
       "         1.65152296],\n",
       "       ...,\n",
       "       [ 1.69601494,  0.53442293,  1.58498549,  0.99025099, -0.50658542,\n",
       "         1.65152296],\n",
       "       [-1.43725259, -1.66640696, -0.90803199,  0.99025099, -0.50658542,\n",
       "        -0.60550172],\n",
       "       [ 1.62480431,  0.06148224,  1.58498549,  0.99025099,  1.97400075,\n",
       "        -0.60550172]])"
      ]
     },
     "execution_count": 201,
     "metadata": {},
     "output_type": "execute_result"
    }
   ],
   "source": [
    "x_test"
   ]
  },
  {
   "cell_type": "code",
   "execution_count": 202,
   "id": "1e0072a8-e2b9-46bf-a6c4-c38aaac4f461",
   "metadata": {},
   "outputs": [
    {
     "name": "stdout",
     "output_type": "stream",
     "text": [
      "r2 score :  0.7706489236398332\n",
      "mean_absolue_error :  4078.952347851775\n"
     ]
    }
   ],
   "source": [
    "lr = LinearRegression()\n",
    "lr.fit(x_train,y_train)\n",
    "yhat_lr = lr.predict(x_test)\n",
    "print(\"r2 score : \",r2_score(y_test, yhat_lr))\n",
    "print(\"mean_absolue_error : \",mean_absolute_error(y_test, yhat_lr))"
   ]
  },
  {
   "cell_type": "code",
   "execution_count": 203,
   "id": "09e6c590-f153-455b-8b84-eaf948bf9800",
   "metadata": {},
   "outputs": [
    {
     "name": "stdout",
     "output_type": "stream",
     "text": [
      "Best alpha: 1.0\n"
     ]
    }
   ],
   "source": [
    "from sklearn.linear_model import RidgeCV\n",
    "\n",
    "model = RidgeCV(alphas=[0.01, 0.1, 1, 10, 100])\n",
    "model.fit(x_train, y_train)\n",
    "print(\"Best alpha:\", model.alpha_)"
   ]
  },
  {
   "cell_type": "code",
   "execution_count": 204,
   "id": "b1588128-36b4-4c4b-ad14-74925f69a6f1",
   "metadata": {},
   "outputs": [
    {
     "name": "stdout",
     "output_type": "stream",
     "text": [
      "r2 score :  0.7706440396726213\n",
      "mean_absolue_error :  4080.610653208691\n"
     ]
    }
   ],
   "source": [
    "rr = Ridge(alpha = 1)\n",
    "rr.fit(x_train,y_train)\n",
    "yhat_rr = rr.predict(x_test)\n",
    "print(\"r2 score : \",r2_score(y_test, yhat_rr))\n",
    "print(\"mean_absolue_error : \",mean_absolute_error(y_test, yhat_rr))"
   ]
  },
  {
   "cell_type": "code",
   "execution_count": 205,
   "id": "fdfc5190-1369-4b6c-bc99-3e52ed9b4f0c",
   "metadata": {},
   "outputs": [
    {
     "name": "stdout",
     "output_type": "stream",
     "text": [
      "Best alpha: 10.0\n"
     ]
    }
   ],
   "source": [
    "from sklearn.linear_model import LassoCV\n",
    "\n",
    "model = LassoCV(alphas=[0.01, 0.1, 1, 10, 100])\n",
    "model.fit(x_train, y_train)\n",
    "print(\"Best alpha:\", model.alpha_)"
   ]
  },
  {
   "cell_type": "code",
   "execution_count": 206,
   "id": "ae48ea8d-99e6-4c86-8f6f-15610c5cf7ce",
   "metadata": {},
   "outputs": [
    {
     "name": "stdout",
     "output_type": "stream",
     "text": [
      "r2 score :  0.770569648098223\n",
      "mean_absolue_error :  4080.172615924871\n"
     ]
    }
   ],
   "source": [
    "ll = Lasso(alpha = 10)\n",
    "ll.fit(x_train,y_train)\n",
    "yhat_ll = ll.predict(x_test)\n",
    "print(\"r2 score : \",r2_score(y_test, yhat_ll))\n",
    "print(\"mean_absolue_error : \",mean_absolute_error(y_test, yhat_ll))"
   ]
  },
  {
   "cell_type": "code",
   "execution_count": 207,
   "id": "c035a08a-a9df-447d-b00c-84633b524aa7",
   "metadata": {},
   "outputs": [
    {
     "name": "stdout",
     "output_type": "stream",
     "text": [
      "r2 score :  0.81828775195546\n",
      "mean_absolue_error :  3185.73151029377\n"
     ]
    }
   ],
   "source": [
    "knn = KNeighborsRegressor(n_neighbors = 7)\n",
    "knn.fit(x_train,y_train)\n",
    "yhat = knn.predict(x_test)\n",
    "\n",
    "print(\"r2 score : \",r2_score(y_test, yhat))\n",
    "print(\"mean_absolue_error : \",mean_absolute_error(y_test, yhat))"
   ]
  },
  {
   "cell_type": "code",
   "execution_count": 208,
   "id": "76c49ad5-b8d7-41b9-b7be-a4a615be29bd",
   "metadata": {},
   "outputs": [
    {
     "name": "stdout",
     "output_type": "stream",
     "text": [
      "r2 score :  0.8669986362094612\n",
      "mean_absolue_error :  2725.9254598715283\n"
     ]
    }
   ],
   "source": [
    "dt = DecisionTreeRegressor(random_state = 42,max_depth = 3)\n",
    "dt.fit(x_train,y_train)\n",
    "yhat_dt = dt.predict(x_test)\n",
    "\n",
    "print(\"r2 score : \",r2_score(y_test, yhat_dt))\n",
    "print(\"mean_absolue_error : \",mean_absolute_error(y_test, yhat_dt))"
   ]
  },
  {
   "cell_type": "code",
   "execution_count": 209,
   "id": "8168cfda-0f0a-4162-895b-8808eea2b770",
   "metadata": {},
   "outputs": [
    {
     "name": "stdout",
     "output_type": "stream",
     "text": [
      "r2 score :  0.8768434738247346\n",
      "mean_absolue_error :  2561.0428658257906\n"
     ]
    }
   ],
   "source": [
    "rf = RandomForestRegressor(n_estimators=50,random_state = 42,max_depth = 3)\n",
    "rf.fit(x_train,y_train)\n",
    "yhat_rf = rf.predict(x_test)\n",
    "\n",
    "print(\"r2 score : \",r2_score(y_test, yhat_rf))\n",
    "print(\"mean_absolue_error : \",mean_absolute_error(y_test, yhat_rf))"
   ]
  },
  {
   "cell_type": "code",
   "execution_count": 210,
   "id": "2c3d8ecc-ac4f-4941-9102-dd7c3b19c5f4",
   "metadata": {},
   "outputs": [
    {
     "name": "stdout",
     "output_type": "stream",
     "text": [
      "r2 score :  0.8717743197785541\n",
      "mean_absolue_error :  2536.5223840345557\n"
     ]
    }
   ],
   "source": [
    "et = ExtraTreesRegressor(n_estimators=50,\n",
    "                              random_state=3,max_depth = 6)\n",
    "et.fit(x_train,y_train)\n",
    "yhat_et = et.predict(x_test)\n",
    "\n",
    "print(\"r2 score : \",r2_score(y_test, yhat_et))\n",
    "print(\"mean_absolue_error : \",mean_absolute_error(y_test, yhat_et))"
   ]
  },
  {
   "cell_type": "code",
   "execution_count": 211,
   "id": "5d42ccfc-1f9e-4d79-8783-0b4ffb1abe99",
   "metadata": {},
   "outputs": [
    {
     "name": "stdout",
     "output_type": "stream",
     "text": [
      "r2 score :  0.8319341872184117\n",
      "mean_absolue_error :  3969.7379173757536\n"
     ]
    }
   ],
   "source": [
    "ab = AdaBoostRegressor(n_estimators=100,\n",
    "                              random_state=3,\n",
    "                              )\n",
    "ab.fit(x_train,y_train)\n",
    "yhat = ab.predict(x_test)\n",
    "\n",
    "print(\"r2 score : \",r2_score(y_test, yhat))\n",
    "print(\"mean_absolue_error : \",mean_absolute_error(y_test, yhat))"
   ]
  },
  {
   "cell_type": "code",
   "execution_count": 212,
   "id": "39fb3ce0-57fd-4b9c-b035-3ce7cb8ab01c",
   "metadata": {},
   "outputs": [
    {
     "name": "stdout",
     "output_type": "stream",
     "text": [
      "r2 score :  0.8787390750015682\n",
      "mean_absolue_error :  2412.187049595648\n"
     ]
    }
   ],
   "source": [
    "ab = GradientBoostingRegressor(n_estimators=100,\n",
    "                              random_state=3,max_depth = 2\n",
    "                              )\n",
    "ab.fit(x_train,y_train)\n",
    "yhat = ab.predict(x_test)\n",
    "\n",
    "print(\"r2 score : \",r2_score(y_test, yhat))\n",
    "print(\"mean_absolue_error : \",mean_absolute_error(y_test, yhat))"
   ]
  },
  {
   "cell_type": "code",
   "execution_count": 213,
   "id": "a74aed6b-2377-4f8f-ac0b-c29475c81024",
   "metadata": {},
   "outputs": [
    {
     "name": "stdout",
     "output_type": "stream",
     "text": [
      "r2 score :  0.8710629929837992\n",
      "mean_absolue_error :  2427.858898574806\n"
     ]
    }
   ],
   "source": [
    "ab = XGBRegressor(n_estimators=100,\n",
    "                              random_state=3,max_depth = 2\n",
    "                              )\n",
    "ab.fit(x_train,y_train)\n",
    "yhat = ab.predict(x_test)\n",
    "\n",
    "print(\"r2 score : \",r2_score(y_test, yhat))\n",
    "print(\"mean_absolue_error : \",mean_absolute_error(y_test, yhat))"
   ]
  },
  {
   "cell_type": "markdown",
   "id": "be3325eb-dafe-430d-815e-92895b58d7ae",
   "metadata": {},
   "source": [
    "## **Hyper Parameter Tunning of the Models Perfroming well**"
   ]
  },
  {
   "cell_type": "code",
   "execution_count": 214,
   "id": "d5af95e1-3b05-442a-be40-0030105cd163",
   "metadata": {},
   "outputs": [],
   "source": [
    "models = {\n",
    "    \"DecisionTree\": {\n",
    "        \"model\": DecisionTreeRegressor(random_state=42),\n",
    "        \"params\": {\n",
    "            \"max_depth\": [2,3,4,5,6,7, None],\n",
    "            \"min_samples_split\": [2, 5, 10],\n",
    "            \"min_samples_leaf\": [1, 2, 4]\n",
    "        }\n",
    "    },\n",
    "    \"RandomForest\": {\n",
    "        \"model\": RandomForestRegressor(random_state=42),\n",
    "        \"params\": {\n",
    "            \"n_estimators\": [50,100, 200],\n",
    "            \"max_depth\": [None, 1,2,3,4,5,6,7,8,9,10,20],\n",
    "            \"min_samples_split\": [2, 5],\n",
    "        }\n",
    "    },\n",
    "    \"ExtraTrees\": {\n",
    "        \"model\": ExtraTreesRegressor(random_state=42),\n",
    "        \"params\": {\n",
    "            \"n_estimators\": [50,100, 200],\n",
    "            \"max_depth\": [None, 1,2,3,4,5,6,7,8,9,10,20],\n",
    "            \"min_samples_split\": [2, 5],\n",
    "        }\n",
    "    },\n",
    "    \"GradientBoosting\": {\n",
    "        \"model\": GradientBoostingRegressor(random_state=42),\n",
    "        \"params\": {\n",
    "            \"n_estimators\": [100, 200],\n",
    "            \"learning_rate\": [0.01, 0.1,0.001,0,1],\n",
    "            \"max_depth\": [None, 1,2,3,4,5,6,7,8,9,10,20]\n",
    "        }\n",
    "    },\n",
    "    \"XGBoost\": {\n",
    "        \"model\": XGBRegressor(random_state=42, objective='reg:squarederror'),\n",
    "        \"params\": {\n",
    "            \"n_estimators\": [50,100, 200],\n",
    "            \"learning_rate\": [0.01, 0.1,0.001,1,0],\n",
    "            \"max_depth\": [None, 1,2,3,4,5,6,7,8,9,10,20]\n",
    "        }\n",
    "    }\n",
    "}\n"
   ]
  },
  {
   "cell_type": "code",
   "execution_count": 215,
   "id": "90eb1d37-2286-4f2b-a0bb-0b0062af0092",
   "metadata": {},
   "outputs": [
    {
     "name": "stdout",
     "output_type": "stream",
     "text": [
      "🔍 Tuning DecisionTree...\n",
      "✅ Best params for DecisionTree: {'max_depth': 5, 'min_samples_leaf': 4, 'min_samples_split': 2}\n",
      "📊 R² Score: 0.8761\n",
      "📉 MAE: 2505.91\n",
      "\n",
      "🔍 Tuning RandomForest...\n",
      "✅ Best params for RandomForest: {'max_depth': 4, 'min_samples_split': 5, 'n_estimators': 200}\n",
      "📊 R² Score: 0.8760\n",
      "📉 MAE: 2445.93\n",
      "\n",
      "🔍 Tuning ExtraTrees...\n",
      "✅ Best params for ExtraTrees: {'max_depth': 8, 'min_samples_split': 5, 'n_estimators': 50}\n",
      "📊 R² Score: 0.8580\n",
      "📉 MAE: 2571.36\n",
      "\n",
      "🔍 Tuning GradientBoosting...\n",
      "✅ Best params for GradientBoosting: {'learning_rate': 0.1, 'max_depth': 3, 'n_estimators': 100}\n",
      "📊 R² Score: 0.8752\n",
      "📉 MAE: 2388.42\n",
      "\n",
      "🔍 Tuning XGBoost...\n",
      "✅ Best params for XGBoost: {'learning_rate': 0.1, 'max_depth': 3, 'n_estimators': 50}\n",
      "📊 R² Score: 0.8802\n",
      "📉 MAE: 2371.52\n",
      "\n"
     ]
    }
   ],
   "source": [
    "best_models = {}\n",
    "for name, config in models.items():\n",
    "    print(f\"🔍 Tuning {name}...\")\n",
    "    grid = GridSearchCV(config[\"model\"], config[\"params\"], cv=5, scoring=\"neg_mean_absolute_error\", n_jobs=-1)\n",
    "    grid.fit(x_train, y_train)\n",
    "    \n",
    "    best_model = grid.best_estimator_\n",
    "    best_models[name] = best_model\n",
    "    \n",
    "    y_pred = best_model.predict(x_test)\n",
    "    \n",
    "    r2 = r2_score(y_test, y_pred)\n",
    "    mae = mean_absolute_error(y_test, y_pred)\n",
    "    \n",
    "    print(f\"✅ Best params for {name}: {grid.best_params_}\")\n",
    "    print(f\"📊 R² Score: {r2:.4f}\")\n",
    "    print(f\"📉 MAE: {mae:.2f}\\n\")"
   ]
  },
  {
   "cell_type": "markdown",
   "id": "1e2e133a-d516-4d25-92e5-66d749f7e5dd",
   "metadata": {},
   "source": [
    "## **Final Model I choose for Votting and Stacking are Listed Below With Their Parameters**\n",
    "\n",
    "- ### **DecisionTreeRegressor**\n",
    "- ### **RandomForestRegressor**\n",
    "- ### **ExtraTreesRegressor**\n",
    "- ### **GradientBoostingRegressor**\n",
    "- ### **XGBRegressor**"
   ]
  },
  {
   "cell_type": "code",
   "execution_count": 216,
   "id": "9f4f06b1-f29e-4dad-8b86-69630d16dc07",
   "metadata": {},
   "outputs": [
    {
     "name": "stdout",
     "output_type": "stream",
     "text": [
      "r2 score :  0.8760594081637669\n",
      "mean_absolue_error :  2505.90782060196\n"
     ]
    }
   ],
   "source": [
    "dt = DecisionTreeRegressor(random_state = 42, max_depth =  5, min_samples_leaf =  4, min_samples_split= 2)\n",
    "dt.fit(x_train,y_train)\n",
    "yhat_dt = dt.predict(x_test)\n",
    "\n",
    "print(\"r2 score : \",r2_score(y_test, yhat_dt))\n",
    "print(\"mean_absolue_error : \",mean_absolute_error(y_test, yhat_dt))"
   ]
  },
  {
   "cell_type": "code",
   "execution_count": 217,
   "id": "eb88f2e8-8b51-4e49-a0b4-a55a21a48192",
   "metadata": {},
   "outputs": [
    {
     "name": "stdout",
     "output_type": "stream",
     "text": [
      "r2 score :  0.8768434738247346\n",
      "mean_absolue_error :  2561.0428658257906\n"
     ]
    }
   ],
   "source": [
    "rf = RandomForestRegressor(n_estimators=50,random_state = 42,max_depth = 3)\n",
    "rf.fit(x_train,y_train)\n",
    "yhat_rf = rf.predict(x_test)\n",
    "\n",
    "print(\"r2 score : \",r2_score(y_test, yhat_rf))\n",
    "print(\"mean_absolue_error : \",mean_absolute_error(y_test, yhat_rf))"
   ]
  },
  {
   "cell_type": "code",
   "execution_count": 218,
   "id": "80137506-b414-4998-ae9c-c2d207fa48f0",
   "metadata": {},
   "outputs": [
    {
     "name": "stdout",
     "output_type": "stream",
     "text": [
      "r2 score :  0.8717743197785541\n",
      "mean_absolue_error :  2536.5223840345557\n"
     ]
    }
   ],
   "source": [
    "et = ExtraTreesRegressor(n_estimators=50,\n",
    "                              random_state=3,max_depth = 6)\n",
    "et.fit(x_train,y_train)\n",
    "yhat_et = et.predict(x_test)\n",
    "\n",
    "print(\"r2 score : \",r2_score(y_test, yhat_et))\n",
    "print(\"mean_absolue_error : \",mean_absolute_error(y_test, yhat_et))"
   ]
  },
  {
   "cell_type": "code",
   "execution_count": 219,
   "id": "4d54c5ba-3645-49e5-aa4c-849bb93b36f4",
   "metadata": {},
   "outputs": [
    {
     "name": "stdout",
     "output_type": "stream",
     "text": [
      "r2 score :  0.8787390750015682\n",
      "mean_absolue_error :  2412.187049595648\n"
     ]
    }
   ],
   "source": [
    "ab = GradientBoostingRegressor(n_estimators=100,\n",
    "                              random_state=3,max_depth = 2\n",
    "                              )\n",
    "ab.fit(x_train,y_train)\n",
    "yhat = ab.predict(x_test)\n",
    "\n",
    "print(\"r2 score : \",r2_score(y_test, yhat))\n",
    "print(\"mean_absolue_error : \",mean_absolute_error(y_test, yhat))"
   ]
  },
  {
   "cell_type": "code",
   "execution_count": 220,
   "id": "b5dc1bd6-573f-4fb1-95fb-11922bb6e9e8",
   "metadata": {},
   "outputs": [
    {
     "name": "stdout",
     "output_type": "stream",
     "text": [
      "r2 score :  0.880235125503266\n",
      "mean_absolue_error :  2371.5195627525845\n"
     ]
    }
   ],
   "source": [
    "ab = XGBRegressor(random_state=3,learning_rate = 0.1, max_depth =  3, n_estimators =  50)\n",
    "ab.fit(x_train,y_train)\n",
    "yhat = ab.predict(x_test)\n",
    "\n",
    "print(\"r2 score : \",r2_score(y_test, yhat))\n",
    "print(\"mean_absolue_error : \",mean_absolute_error(y_test, yhat))"
   ]
  },
  {
   "cell_type": "markdown",
   "id": "89630a2a-fbbe-4dae-99bd-4ef05acf5462",
   "metadata": {},
   "source": [
    "## **Votting Regressor**"
   ]
  },
  {
   "cell_type": "code",
   "execution_count": 221,
   "id": "bcf9c7f5-f6f6-406f-81cb-68ed5b708bc5",
   "metadata": {},
   "outputs": [],
   "source": [
    "dt = DecisionTreeRegressor(random_state=42, max_depth=5, min_samples_leaf=4, min_samples_split=2)\n",
    "rf = RandomForestRegressor(n_estimators=50, random_state=42, max_depth=3)\n",
    "et = ExtraTreesRegressor(n_estimators=50, random_state=3, max_depth=6)\n",
    "gbr = GradientBoostingRegressor(n_estimators=100, random_state=3, max_depth=2)\n",
    "xgb = XGBRegressor(random_state=3, learning_rate=0.1, max_depth=3, n_estimators=50)"
   ]
  },
  {
   "cell_type": "code",
   "execution_count": 222,
   "id": "91002e30-af3d-448d-ab66-48937d4c19b3",
   "metadata": {},
   "outputs": [],
   "source": [
    "voting_reg = VotingRegressor([\n",
    "    ('dt', dt),\n",
    "    ('rf', rf),\n",
    "    ('et', et),\n",
    "    ('gbr', gbr),\n",
    "    ('xgb', xgb)\n",
    "])"
   ]
  },
  {
   "cell_type": "code",
   "execution_count": 223,
   "id": "142c24e1-8266-413a-b05d-403780cf6695",
   "metadata": {},
   "outputs": [
    {
     "name": "stdout",
     "output_type": "stream",
     "text": [
      "🔷 VotingRegressor:\n",
      "R² Score: 0.8815879214466029\n",
      "MAE: 2363.182696819116\n"
     ]
    }
   ],
   "source": [
    "voting_reg.fit(x_train, y_train)\n",
    "voting_preds = voting_reg.predict(x_test)\n",
    "print(\"🔷 VotingRegressor:\")\n",
    "print(\"R² Score:\", r2_score(y_test, voting_preds))\n",
    "print(\"MAE:\", mean_absolute_error(y_test, voting_preds))"
   ]
  },
  {
   "cell_type": "markdown",
   "id": "7f010c53-7cfc-48c2-a1b2-a034d5d38815",
   "metadata": {},
   "source": [
    "## **Stacking Classifier**"
   ]
  },
  {
   "cell_type": "code",
   "execution_count": 226,
   "id": "32ff09fb-304e-48f5-81f3-ef8507b57349",
   "metadata": {},
   "outputs": [],
   "source": [
    "stacking_reg = StackingRegressor(\n",
    "    estimators=[\n",
    "        ('dt', dt),\n",
    "        ('rf', rf),\n",
    "        ('et', et),\n",
    "        ('xgb', xgb)\n",
    "    ],\n",
    "    final_estimator=gbr\n",
    ")"
   ]
  },
  {
   "cell_type": "code",
   "execution_count": 227,
   "id": "fdb8efd3-ff93-4fae-bd69-ae5945fa75cd",
   "metadata": {},
   "outputs": [
    {
     "name": "stdout",
     "output_type": "stream",
     "text": [
      "\n",
      "🔷 StackingRegressor:\n",
      "R² Score: 0.8802153189320387\n",
      "MAE: 2271.601758364907\n"
     ]
    }
   ],
   "source": [
    "stacking_reg.fit(x_train, y_train)\n",
    "stacking_preds = stacking_reg.predict(x_test)\n",
    "print(\"\\n🔷 StackingRegressor:\")\n",
    "print(\"R² Score:\", r2_score(y_test, stacking_preds))\n",
    "print(\"MAE:\", mean_absolute_error(y_test, stacking_preds))"
   ]
  },
  {
   "cell_type": "markdown",
   "id": "868d85e5-5a77-4840-b37e-68396aa434b3",
   "metadata": {},
   "source": [
    "## **Trying Stacking Regressor each time with Different meta model Listed Below**\n",
    "- ### **DecisionTreeRegressor**\n",
    "- ### **RandomForestRegressor**\n",
    "- ### **ExtraTreesRegressor**\n",
    "- ### **GradientBoostingRegressor**\n",
    "- ### **XGBRegressor**"
   ]
  },
  {
   "cell_type": "code",
   "execution_count": 231,
   "id": "73365abf-8294-451b-be5e-f48c5ce4ada3",
   "metadata": {},
   "outputs": [],
   "source": [
    "stacking_gbr = StackingRegressor(\n",
    "    estimators=[\n",
    "        ('dt', dt),\n",
    "        ('rf', rf),\n",
    "        ('et', et),\n",
    "        ('xgb', xgb)\n",
    "    ],\n",
    "    final_estimator=GradientBoostingRegressor(\n",
    "        n_estimators=100, random_state=3, max_depth=2)\n",
    ")"
   ]
  },
  {
   "cell_type": "code",
   "execution_count": 232,
   "id": "227f0c63-389e-470a-a197-0fb09a56ecbe",
   "metadata": {},
   "outputs": [],
   "source": [
    "stacking_rfmeta = StackingRegressor(\n",
    "    estimators=[\n",
    "        ('dt', dt),\n",
    "        ('et', et),\n",
    "        ('xgb', xgb)\n",
    "    ],\n",
    "    final_estimator=RandomForestRegressor(\n",
    "        n_estimators=100, random_state=42, max_depth=4)\n",
    ")"
   ]
  },
  {
   "cell_type": "code",
   "execution_count": 233,
   "id": "443f8fcf-ef7e-4dec-9220-108564df0601",
   "metadata": {},
   "outputs": [],
   "source": [
    "stacking_xgbmeta = StackingRegressor(\n",
    "    estimators=[\n",
    "        ('dt', dt),\n",
    "        ('rf', rf),\n",
    "        ('et', et)\n",
    "    ],\n",
    "    final_estimator=XGBRegressor(\n",
    "        random_state=42, learning_rate=0.1, max_depth=3, n_estimators=50)\n",
    ")"
   ]
  },
  {
   "cell_type": "code",
   "execution_count": 235,
   "id": "4252570c-3595-49e3-a50c-c07acaa6b0a5",
   "metadata": {},
   "outputs": [
    {
     "name": "stdout",
     "output_type": "stream",
     "text": [
      "\n",
      "📌 Stacking_GBR\n",
      "R² Score: 0.8802\n",
      "MAE: 2271.60\n",
      "\n",
      "📌 Stacking_RF\n",
      "R² Score: 0.8851\n",
      "MAE: 2273.32\n",
      "\n",
      "📌 Stacking_XGB\n",
      "R² Score: 0.8789\n",
      "MAE: 2396.49\n"
     ]
    }
   ],
   "source": [
    "for name, model in {\n",
    "    \"Stacking_GBR\": stacking_gbr,\n",
    "    \"Stacking_RF\": stacking_rfmeta,\n",
    "    \"Stacking_XGB\": stacking_xgbmeta\n",
    "}.items():\n",
    "    model.fit(x_train, y_train)\n",
    "    preds = model.predict(x_test)\n",
    "    r2 = r2_score(y_test, preds)\n",
    "    mae = mean_absolute_error(y_test, preds)\n",
    "    \n",
    "    print(f\"\\n📌 {name}\")\n",
    "    print(f\"R² Score: {r2:.4f}\")\n",
    "    print(f\"MAE: {mae:.2f}\")\n"
   ]
  },
  {
   "cell_type": "markdown",
   "id": "7f4e8a2b-b4a8-4bc3-b280-1e5c99338929",
   "metadata": {},
   "source": [
    "# **The Final model is stacking Model With Meta Model**\n",
    "- ### **GradientBoostingRegressor**\n",
    "### **The reason is the it has the Smallest MEAN ABSOLUTE ERROR with acceptable R2 score**"
   ]
  },
  {
   "cell_type": "code",
   "execution_count": 236,
   "id": "a335db03-3ded-4f9e-8971-071595f4ab07",
   "metadata": {},
   "outputs": [
    {
     "name": "stdout",
     "output_type": "stream",
     "text": [
      "\n",
      "🔷 StackingRegressor:\n",
      "R² Score: 0.8802153189320387\n",
      "MAE: 2271.601758364907\n"
     ]
    }
   ],
   "source": [
    "stacking_reg.fit(x_train, y_train)\n",
    "stacking_preds = stacking_reg.predict(x_test)\n",
    "print(\"\\n🔷 StackingRegressor:\")\n",
    "print(\"R² Score:\", r2_score(y_test, stacking_preds))\n",
    "print(\"MAE:\", mean_absolute_error(y_test, stacking_preds))"
   ]
  },
  {
   "cell_type": "code",
   "execution_count": 237,
   "id": "2a8d8e1e-e833-4819-8f0d-3a9d68779e21",
   "metadata": {},
   "outputs": [
    {
     "data": {
      "text/html": [
       "<style>#sk-container-id-1 {\n",
       "  /* Definition of color scheme common for light and dark mode */\n",
       "  --sklearn-color-text: #000;\n",
       "  --sklearn-color-text-muted: #666;\n",
       "  --sklearn-color-line: gray;\n",
       "  /* Definition of color scheme for unfitted estimators */\n",
       "  --sklearn-color-unfitted-level-0: #fff5e6;\n",
       "  --sklearn-color-unfitted-level-1: #f6e4d2;\n",
       "  --sklearn-color-unfitted-level-2: #ffe0b3;\n",
       "  --sklearn-color-unfitted-level-3: chocolate;\n",
       "  /* Definition of color scheme for fitted estimators */\n",
       "  --sklearn-color-fitted-level-0: #f0f8ff;\n",
       "  --sklearn-color-fitted-level-1: #d4ebff;\n",
       "  --sklearn-color-fitted-level-2: #b3dbfd;\n",
       "  --sklearn-color-fitted-level-3: cornflowerblue;\n",
       "\n",
       "  /* Specific color for light theme */\n",
       "  --sklearn-color-text-on-default-background: var(--sg-text-color, var(--theme-code-foreground, var(--jp-content-font-color1, black)));\n",
       "  --sklearn-color-background: var(--sg-background-color, var(--theme-background, var(--jp-layout-color0, white)));\n",
       "  --sklearn-color-border-box: var(--sg-text-color, var(--theme-code-foreground, var(--jp-content-font-color1, black)));\n",
       "  --sklearn-color-icon: #696969;\n",
       "\n",
       "  @media (prefers-color-scheme: dark) {\n",
       "    /* Redefinition of color scheme for dark theme */\n",
       "    --sklearn-color-text-on-default-background: var(--sg-text-color, var(--theme-code-foreground, var(--jp-content-font-color1, white)));\n",
       "    --sklearn-color-background: var(--sg-background-color, var(--theme-background, var(--jp-layout-color0, #111)));\n",
       "    --sklearn-color-border-box: var(--sg-text-color, var(--theme-code-foreground, var(--jp-content-font-color1, white)));\n",
       "    --sklearn-color-icon: #878787;\n",
       "  }\n",
       "}\n",
       "\n",
       "#sk-container-id-1 {\n",
       "  color: var(--sklearn-color-text);\n",
       "}\n",
       "\n",
       "#sk-container-id-1 pre {\n",
       "  padding: 0;\n",
       "}\n",
       "\n",
       "#sk-container-id-1 input.sk-hidden--visually {\n",
       "  border: 0;\n",
       "  clip: rect(1px 1px 1px 1px);\n",
       "  clip: rect(1px, 1px, 1px, 1px);\n",
       "  height: 1px;\n",
       "  margin: -1px;\n",
       "  overflow: hidden;\n",
       "  padding: 0;\n",
       "  position: absolute;\n",
       "  width: 1px;\n",
       "}\n",
       "\n",
       "#sk-container-id-1 div.sk-dashed-wrapped {\n",
       "  border: 1px dashed var(--sklearn-color-line);\n",
       "  margin: 0 0.4em 0.5em 0.4em;\n",
       "  box-sizing: border-box;\n",
       "  padding-bottom: 0.4em;\n",
       "  background-color: var(--sklearn-color-background);\n",
       "}\n",
       "\n",
       "#sk-container-id-1 div.sk-container {\n",
       "  /* jupyter's `normalize.less` sets `[hidden] { display: none; }`\n",
       "     but bootstrap.min.css set `[hidden] { display: none !important; }`\n",
       "     so we also need the `!important` here to be able to override the\n",
       "     default hidden behavior on the sphinx rendered scikit-learn.org.\n",
       "     See: https://github.com/scikit-learn/scikit-learn/issues/21755 */\n",
       "  display: inline-block !important;\n",
       "  position: relative;\n",
       "}\n",
       "\n",
       "#sk-container-id-1 div.sk-text-repr-fallback {\n",
       "  display: none;\n",
       "}\n",
       "\n",
       "div.sk-parallel-item,\n",
       "div.sk-serial,\n",
       "div.sk-item {\n",
       "  /* draw centered vertical line to link estimators */\n",
       "  background-image: linear-gradient(var(--sklearn-color-text-on-default-background), var(--sklearn-color-text-on-default-background));\n",
       "  background-size: 2px 100%;\n",
       "  background-repeat: no-repeat;\n",
       "  background-position: center center;\n",
       "}\n",
       "\n",
       "/* Parallel-specific style estimator block */\n",
       "\n",
       "#sk-container-id-1 div.sk-parallel-item::after {\n",
       "  content: \"\";\n",
       "  width: 100%;\n",
       "  border-bottom: 2px solid var(--sklearn-color-text-on-default-background);\n",
       "  flex-grow: 1;\n",
       "}\n",
       "\n",
       "#sk-container-id-1 div.sk-parallel {\n",
       "  display: flex;\n",
       "  align-items: stretch;\n",
       "  justify-content: center;\n",
       "  background-color: var(--sklearn-color-background);\n",
       "  position: relative;\n",
       "}\n",
       "\n",
       "#sk-container-id-1 div.sk-parallel-item {\n",
       "  display: flex;\n",
       "  flex-direction: column;\n",
       "}\n",
       "\n",
       "#sk-container-id-1 div.sk-parallel-item:first-child::after {\n",
       "  align-self: flex-end;\n",
       "  width: 50%;\n",
       "}\n",
       "\n",
       "#sk-container-id-1 div.sk-parallel-item:last-child::after {\n",
       "  align-self: flex-start;\n",
       "  width: 50%;\n",
       "}\n",
       "\n",
       "#sk-container-id-1 div.sk-parallel-item:only-child::after {\n",
       "  width: 0;\n",
       "}\n",
       "\n",
       "/* Serial-specific style estimator block */\n",
       "\n",
       "#sk-container-id-1 div.sk-serial {\n",
       "  display: flex;\n",
       "  flex-direction: column;\n",
       "  align-items: center;\n",
       "  background-color: var(--sklearn-color-background);\n",
       "  padding-right: 1em;\n",
       "  padding-left: 1em;\n",
       "}\n",
       "\n",
       "\n",
       "/* Toggleable style: style used for estimator/Pipeline/ColumnTransformer box that is\n",
       "clickable and can be expanded/collapsed.\n",
       "- Pipeline and ColumnTransformer use this feature and define the default style\n",
       "- Estimators will overwrite some part of the style using the `sk-estimator` class\n",
       "*/\n",
       "\n",
       "/* Pipeline and ColumnTransformer style (default) */\n",
       "\n",
       "#sk-container-id-1 div.sk-toggleable {\n",
       "  /* Default theme specific background. It is overwritten whether we have a\n",
       "  specific estimator or a Pipeline/ColumnTransformer */\n",
       "  background-color: var(--sklearn-color-background);\n",
       "}\n",
       "\n",
       "/* Toggleable label */\n",
       "#sk-container-id-1 label.sk-toggleable__label {\n",
       "  cursor: pointer;\n",
       "  display: flex;\n",
       "  width: 100%;\n",
       "  margin-bottom: 0;\n",
       "  padding: 0.5em;\n",
       "  box-sizing: border-box;\n",
       "  text-align: center;\n",
       "  align-items: start;\n",
       "  justify-content: space-between;\n",
       "  gap: 0.5em;\n",
       "}\n",
       "\n",
       "#sk-container-id-1 label.sk-toggleable__label .caption {\n",
       "  font-size: 0.6rem;\n",
       "  font-weight: lighter;\n",
       "  color: var(--sklearn-color-text-muted);\n",
       "}\n",
       "\n",
       "#sk-container-id-1 label.sk-toggleable__label-arrow:before {\n",
       "  /* Arrow on the left of the label */\n",
       "  content: \"▸\";\n",
       "  float: left;\n",
       "  margin-right: 0.25em;\n",
       "  color: var(--sklearn-color-icon);\n",
       "}\n",
       "\n",
       "#sk-container-id-1 label.sk-toggleable__label-arrow:hover:before {\n",
       "  color: var(--sklearn-color-text);\n",
       "}\n",
       "\n",
       "/* Toggleable content - dropdown */\n",
       "\n",
       "#sk-container-id-1 div.sk-toggleable__content {\n",
       "  max-height: 0;\n",
       "  max-width: 0;\n",
       "  overflow: hidden;\n",
       "  text-align: left;\n",
       "  /* unfitted */\n",
       "  background-color: var(--sklearn-color-unfitted-level-0);\n",
       "}\n",
       "\n",
       "#sk-container-id-1 div.sk-toggleable__content.fitted {\n",
       "  /* fitted */\n",
       "  background-color: var(--sklearn-color-fitted-level-0);\n",
       "}\n",
       "\n",
       "#sk-container-id-1 div.sk-toggleable__content pre {\n",
       "  margin: 0.2em;\n",
       "  border-radius: 0.25em;\n",
       "  color: var(--sklearn-color-text);\n",
       "  /* unfitted */\n",
       "  background-color: var(--sklearn-color-unfitted-level-0);\n",
       "}\n",
       "\n",
       "#sk-container-id-1 div.sk-toggleable__content.fitted pre {\n",
       "  /* unfitted */\n",
       "  background-color: var(--sklearn-color-fitted-level-0);\n",
       "}\n",
       "\n",
       "#sk-container-id-1 input.sk-toggleable__control:checked~div.sk-toggleable__content {\n",
       "  /* Expand drop-down */\n",
       "  max-height: 200px;\n",
       "  max-width: 100%;\n",
       "  overflow: auto;\n",
       "}\n",
       "\n",
       "#sk-container-id-1 input.sk-toggleable__control:checked~label.sk-toggleable__label-arrow:before {\n",
       "  content: \"▾\";\n",
       "}\n",
       "\n",
       "/* Pipeline/ColumnTransformer-specific style */\n",
       "\n",
       "#sk-container-id-1 div.sk-label input.sk-toggleable__control:checked~label.sk-toggleable__label {\n",
       "  color: var(--sklearn-color-text);\n",
       "  background-color: var(--sklearn-color-unfitted-level-2);\n",
       "}\n",
       "\n",
       "#sk-container-id-1 div.sk-label.fitted input.sk-toggleable__control:checked~label.sk-toggleable__label {\n",
       "  background-color: var(--sklearn-color-fitted-level-2);\n",
       "}\n",
       "\n",
       "/* Estimator-specific style */\n",
       "\n",
       "/* Colorize estimator box */\n",
       "#sk-container-id-1 div.sk-estimator input.sk-toggleable__control:checked~label.sk-toggleable__label {\n",
       "  /* unfitted */\n",
       "  background-color: var(--sklearn-color-unfitted-level-2);\n",
       "}\n",
       "\n",
       "#sk-container-id-1 div.sk-estimator.fitted input.sk-toggleable__control:checked~label.sk-toggleable__label {\n",
       "  /* fitted */\n",
       "  background-color: var(--sklearn-color-fitted-level-2);\n",
       "}\n",
       "\n",
       "#sk-container-id-1 div.sk-label label.sk-toggleable__label,\n",
       "#sk-container-id-1 div.sk-label label {\n",
       "  /* The background is the default theme color */\n",
       "  color: var(--sklearn-color-text-on-default-background);\n",
       "}\n",
       "\n",
       "/* On hover, darken the color of the background */\n",
       "#sk-container-id-1 div.sk-label:hover label.sk-toggleable__label {\n",
       "  color: var(--sklearn-color-text);\n",
       "  background-color: var(--sklearn-color-unfitted-level-2);\n",
       "}\n",
       "\n",
       "/* Label box, darken color on hover, fitted */\n",
       "#sk-container-id-1 div.sk-label.fitted:hover label.sk-toggleable__label.fitted {\n",
       "  color: var(--sklearn-color-text);\n",
       "  background-color: var(--sklearn-color-fitted-level-2);\n",
       "}\n",
       "\n",
       "/* Estimator label */\n",
       "\n",
       "#sk-container-id-1 div.sk-label label {\n",
       "  font-family: monospace;\n",
       "  font-weight: bold;\n",
       "  display: inline-block;\n",
       "  line-height: 1.2em;\n",
       "}\n",
       "\n",
       "#sk-container-id-1 div.sk-label-container {\n",
       "  text-align: center;\n",
       "}\n",
       "\n",
       "/* Estimator-specific */\n",
       "#sk-container-id-1 div.sk-estimator {\n",
       "  font-family: monospace;\n",
       "  border: 1px dotted var(--sklearn-color-border-box);\n",
       "  border-radius: 0.25em;\n",
       "  box-sizing: border-box;\n",
       "  margin-bottom: 0.5em;\n",
       "  /* unfitted */\n",
       "  background-color: var(--sklearn-color-unfitted-level-0);\n",
       "}\n",
       "\n",
       "#sk-container-id-1 div.sk-estimator.fitted {\n",
       "  /* fitted */\n",
       "  background-color: var(--sklearn-color-fitted-level-0);\n",
       "}\n",
       "\n",
       "/* on hover */\n",
       "#sk-container-id-1 div.sk-estimator:hover {\n",
       "  /* unfitted */\n",
       "  background-color: var(--sklearn-color-unfitted-level-2);\n",
       "}\n",
       "\n",
       "#sk-container-id-1 div.sk-estimator.fitted:hover {\n",
       "  /* fitted */\n",
       "  background-color: var(--sklearn-color-fitted-level-2);\n",
       "}\n",
       "\n",
       "/* Specification for estimator info (e.g. \"i\" and \"?\") */\n",
       "\n",
       "/* Common style for \"i\" and \"?\" */\n",
       "\n",
       ".sk-estimator-doc-link,\n",
       "a:link.sk-estimator-doc-link,\n",
       "a:visited.sk-estimator-doc-link {\n",
       "  float: right;\n",
       "  font-size: smaller;\n",
       "  line-height: 1em;\n",
       "  font-family: monospace;\n",
       "  background-color: var(--sklearn-color-background);\n",
       "  border-radius: 1em;\n",
       "  height: 1em;\n",
       "  width: 1em;\n",
       "  text-decoration: none !important;\n",
       "  margin-left: 0.5em;\n",
       "  text-align: center;\n",
       "  /* unfitted */\n",
       "  border: var(--sklearn-color-unfitted-level-1) 1pt solid;\n",
       "  color: var(--sklearn-color-unfitted-level-1);\n",
       "}\n",
       "\n",
       ".sk-estimator-doc-link.fitted,\n",
       "a:link.sk-estimator-doc-link.fitted,\n",
       "a:visited.sk-estimator-doc-link.fitted {\n",
       "  /* fitted */\n",
       "  border: var(--sklearn-color-fitted-level-1) 1pt solid;\n",
       "  color: var(--sklearn-color-fitted-level-1);\n",
       "}\n",
       "\n",
       "/* On hover */\n",
       "div.sk-estimator:hover .sk-estimator-doc-link:hover,\n",
       ".sk-estimator-doc-link:hover,\n",
       "div.sk-label-container:hover .sk-estimator-doc-link:hover,\n",
       ".sk-estimator-doc-link:hover {\n",
       "  /* unfitted */\n",
       "  background-color: var(--sklearn-color-unfitted-level-3);\n",
       "  color: var(--sklearn-color-background);\n",
       "  text-decoration: none;\n",
       "}\n",
       "\n",
       "div.sk-estimator.fitted:hover .sk-estimator-doc-link.fitted:hover,\n",
       ".sk-estimator-doc-link.fitted:hover,\n",
       "div.sk-label-container:hover .sk-estimator-doc-link.fitted:hover,\n",
       ".sk-estimator-doc-link.fitted:hover {\n",
       "  /* fitted */\n",
       "  background-color: var(--sklearn-color-fitted-level-3);\n",
       "  color: var(--sklearn-color-background);\n",
       "  text-decoration: none;\n",
       "}\n",
       "\n",
       "/* Span, style for the box shown on hovering the info icon */\n",
       ".sk-estimator-doc-link span {\n",
       "  display: none;\n",
       "  z-index: 9999;\n",
       "  position: relative;\n",
       "  font-weight: normal;\n",
       "  right: .2ex;\n",
       "  padding: .5ex;\n",
       "  margin: .5ex;\n",
       "  width: min-content;\n",
       "  min-width: 20ex;\n",
       "  max-width: 50ex;\n",
       "  color: var(--sklearn-color-text);\n",
       "  box-shadow: 2pt 2pt 4pt #999;\n",
       "  /* unfitted */\n",
       "  background: var(--sklearn-color-unfitted-level-0);\n",
       "  border: .5pt solid var(--sklearn-color-unfitted-level-3);\n",
       "}\n",
       "\n",
       ".sk-estimator-doc-link.fitted span {\n",
       "  /* fitted */\n",
       "  background: var(--sklearn-color-fitted-level-0);\n",
       "  border: var(--sklearn-color-fitted-level-3);\n",
       "}\n",
       "\n",
       ".sk-estimator-doc-link:hover span {\n",
       "  display: block;\n",
       "}\n",
       "\n",
       "/* \"?\"-specific style due to the `<a>` HTML tag */\n",
       "\n",
       "#sk-container-id-1 a.estimator_doc_link {\n",
       "  float: right;\n",
       "  font-size: 1rem;\n",
       "  line-height: 1em;\n",
       "  font-family: monospace;\n",
       "  background-color: var(--sklearn-color-background);\n",
       "  border-radius: 1rem;\n",
       "  height: 1rem;\n",
       "  width: 1rem;\n",
       "  text-decoration: none;\n",
       "  /* unfitted */\n",
       "  color: var(--sklearn-color-unfitted-level-1);\n",
       "  border: var(--sklearn-color-unfitted-level-1) 1pt solid;\n",
       "}\n",
       "\n",
       "#sk-container-id-1 a.estimator_doc_link.fitted {\n",
       "  /* fitted */\n",
       "  border: var(--sklearn-color-fitted-level-1) 1pt solid;\n",
       "  color: var(--sklearn-color-fitted-level-1);\n",
       "}\n",
       "\n",
       "/* On hover */\n",
       "#sk-container-id-1 a.estimator_doc_link:hover {\n",
       "  /* unfitted */\n",
       "  background-color: var(--sklearn-color-unfitted-level-3);\n",
       "  color: var(--sklearn-color-background);\n",
       "  text-decoration: none;\n",
       "}\n",
       "\n",
       "#sk-container-id-1 a.estimator_doc_link.fitted:hover {\n",
       "  /* fitted */\n",
       "  background-color: var(--sklearn-color-fitted-level-3);\n",
       "}\n",
       "</style><div id=\"sk-container-id-1\" class=\"sk-top-container\"><div class=\"sk-text-repr-fallback\"><pre>StackingRegressor(estimators=[(&#x27;dt&#x27;,\n",
       "                               DecisionTreeRegressor(max_depth=5,\n",
       "                                                     min_samples_leaf=4,\n",
       "                                                     random_state=42)),\n",
       "                              (&#x27;rf&#x27;,\n",
       "                               RandomForestRegressor(max_depth=3,\n",
       "                                                     n_estimators=50,\n",
       "                                                     random_state=42)),\n",
       "                              (&#x27;et&#x27;,\n",
       "                               ExtraTreesRegressor(max_depth=6, n_estimators=50,\n",
       "                                                   random_state=3)),\n",
       "                              (&#x27;xgb&#x27;,\n",
       "                               XGBRegressor(base_score=None, booster=None,\n",
       "                                            callbacks=None,\n",
       "                                            colsample_bylevel=None,\n",
       "                                            colsample_b...\n",
       "                                            interaction_constraints=None,\n",
       "                                            learning_rate=0.1, max_bin=None,\n",
       "                                            max_cat_threshold=None,\n",
       "                                            max_cat_to_onehot=None,\n",
       "                                            max_delta_step=None, max_depth=3,\n",
       "                                            max_leaves=None,\n",
       "                                            min_child_weight=None, missing=nan,\n",
       "                                            monotone_constraints=None,\n",
       "                                            multi_strategy=None,\n",
       "                                            n_estimators=50, n_jobs=None,\n",
       "                                            num_parallel_tree=None, ...))],\n",
       "                  final_estimator=GradientBoostingRegressor(max_depth=2,\n",
       "                                                            random_state=3))</pre><b>In a Jupyter environment, please rerun this cell to show the HTML representation or trust the notebook. <br />On GitHub, the HTML representation is unable to render, please try loading this page with nbviewer.org.</b></div><div class=\"sk-container\" hidden><div class=\"sk-item sk-dashed-wrapped\"><div class=\"sk-label-container\"><div class=\"sk-label fitted sk-toggleable\"><input class=\"sk-toggleable__control sk-hidden--visually\" id=\"sk-estimator-id-1\" type=\"checkbox\" ><label for=\"sk-estimator-id-1\" class=\"sk-toggleable__label fitted sk-toggleable__label-arrow\"><div><div>StackingRegressor</div></div><div><a class=\"sk-estimator-doc-link fitted\" rel=\"noreferrer\" target=\"_blank\" href=\"https://scikit-learn.org/1.6/modules/generated/sklearn.ensemble.StackingRegressor.html\">?<span>Documentation for StackingRegressor</span></a><span class=\"sk-estimator-doc-link fitted\">i<span>Fitted</span></span></div></label><div class=\"sk-toggleable__content fitted\"><pre>StackingRegressor(estimators=[(&#x27;dt&#x27;,\n",
       "                               DecisionTreeRegressor(max_depth=5,\n",
       "                                                     min_samples_leaf=4,\n",
       "                                                     random_state=42)),\n",
       "                              (&#x27;rf&#x27;,\n",
       "                               RandomForestRegressor(max_depth=3,\n",
       "                                                     n_estimators=50,\n",
       "                                                     random_state=42)),\n",
       "                              (&#x27;et&#x27;,\n",
       "                               ExtraTreesRegressor(max_depth=6, n_estimators=50,\n",
       "                                                   random_state=3)),\n",
       "                              (&#x27;xgb&#x27;,\n",
       "                               XGBRegressor(base_score=None, booster=None,\n",
       "                                            callbacks=None,\n",
       "                                            colsample_bylevel=None,\n",
       "                                            colsample_b...\n",
       "                                            interaction_constraints=None,\n",
       "                                            learning_rate=0.1, max_bin=None,\n",
       "                                            max_cat_threshold=None,\n",
       "                                            max_cat_to_onehot=None,\n",
       "                                            max_delta_step=None, max_depth=3,\n",
       "                                            max_leaves=None,\n",
       "                                            min_child_weight=None, missing=nan,\n",
       "                                            monotone_constraints=None,\n",
       "                                            multi_strategy=None,\n",
       "                                            n_estimators=50, n_jobs=None,\n",
       "                                            num_parallel_tree=None, ...))],\n",
       "                  final_estimator=GradientBoostingRegressor(max_depth=2,\n",
       "                                                            random_state=3))</pre></div> </div></div><div class=\"sk-serial\"><div class=\"sk-item\"><div class=\"sk-parallel\"><div class=\"sk-parallel-item\"><div class=\"sk-item\"><div class=\"sk-label-container\"><div class=\"sk-label fitted sk-toggleable\"><label>dt</label></div></div><div class=\"sk-serial\"><div class=\"sk-item\"><div class=\"sk-estimator fitted sk-toggleable\"><input class=\"sk-toggleable__control sk-hidden--visually\" id=\"sk-estimator-id-2\" type=\"checkbox\" ><label for=\"sk-estimator-id-2\" class=\"sk-toggleable__label fitted sk-toggleable__label-arrow\"><div><div>DecisionTreeRegressor</div></div><div><a class=\"sk-estimator-doc-link fitted\" rel=\"noreferrer\" target=\"_blank\" href=\"https://scikit-learn.org/1.6/modules/generated/sklearn.tree.DecisionTreeRegressor.html\">?<span>Documentation for DecisionTreeRegressor</span></a></div></label><div class=\"sk-toggleable__content fitted\"><pre>DecisionTreeRegressor(max_depth=5, min_samples_leaf=4, random_state=42)</pre></div> </div></div></div></div></div><div class=\"sk-parallel-item\"><div class=\"sk-item\"><div class=\"sk-label-container\"><div class=\"sk-label fitted sk-toggleable\"><label>rf</label></div></div><div class=\"sk-serial\"><div class=\"sk-item\"><div class=\"sk-estimator fitted sk-toggleable\"><input class=\"sk-toggleable__control sk-hidden--visually\" id=\"sk-estimator-id-3\" type=\"checkbox\" ><label for=\"sk-estimator-id-3\" class=\"sk-toggleable__label fitted sk-toggleable__label-arrow\"><div><div>RandomForestRegressor</div></div><div><a class=\"sk-estimator-doc-link fitted\" rel=\"noreferrer\" target=\"_blank\" href=\"https://scikit-learn.org/1.6/modules/generated/sklearn.ensemble.RandomForestRegressor.html\">?<span>Documentation for RandomForestRegressor</span></a></div></label><div class=\"sk-toggleable__content fitted\"><pre>RandomForestRegressor(max_depth=3, n_estimators=50, random_state=42)</pre></div> </div></div></div></div></div><div class=\"sk-parallel-item\"><div class=\"sk-item\"><div class=\"sk-label-container\"><div class=\"sk-label fitted sk-toggleable\"><label>et</label></div></div><div class=\"sk-serial\"><div class=\"sk-item\"><div class=\"sk-estimator fitted sk-toggleable\"><input class=\"sk-toggleable__control sk-hidden--visually\" id=\"sk-estimator-id-4\" type=\"checkbox\" ><label for=\"sk-estimator-id-4\" class=\"sk-toggleable__label fitted sk-toggleable__label-arrow\"><div><div>ExtraTreesRegressor</div></div><div><a class=\"sk-estimator-doc-link fitted\" rel=\"noreferrer\" target=\"_blank\" href=\"https://scikit-learn.org/1.6/modules/generated/sklearn.ensemble.ExtraTreesRegressor.html\">?<span>Documentation for ExtraTreesRegressor</span></a></div></label><div class=\"sk-toggleable__content fitted\"><pre>ExtraTreesRegressor(max_depth=6, n_estimators=50, random_state=3)</pre></div> </div></div></div></div></div><div class=\"sk-parallel-item\"><div class=\"sk-item\"><div class=\"sk-label-container\"><div class=\"sk-label fitted sk-toggleable\"><label>xgb</label></div></div><div class=\"sk-serial\"><div class=\"sk-item\"><div class=\"sk-estimator fitted sk-toggleable\"><input class=\"sk-toggleable__control sk-hidden--visually\" id=\"sk-estimator-id-5\" type=\"checkbox\" ><label for=\"sk-estimator-id-5\" class=\"sk-toggleable__label fitted sk-toggleable__label-arrow\"><div><div>XGBRegressor</div></div><div><a class=\"sk-estimator-doc-link fitted\" rel=\"noreferrer\" target=\"_blank\" href=\"https://xgboost.readthedocs.io/en/release_3.0.0/python/python_api.html#xgboost.XGBRegressor\">?<span>Documentation for XGBRegressor</span></a></div></label><div class=\"sk-toggleable__content fitted\"><pre>XGBRegressor(base_score=None, booster=None, callbacks=None,\n",
       "             colsample_bylevel=None, colsample_bynode=None,\n",
       "             colsample_bytree=None, device=None, early_stopping_rounds=None,\n",
       "             enable_categorical=False, eval_metric=None, feature_types=None,\n",
       "             feature_weights=None, gamma=None, grow_policy=None,\n",
       "             importance_type=None, interaction_constraints=None,\n",
       "             learning_rate=0.1, max_bin=None, max_cat_threshold=None,\n",
       "             max_cat_to_onehot=None, max_delta_step=None, max_depth=3,\n",
       "             max_leaves=None, min_child_weight=None, missing=nan,\n",
       "             monotone_constraints=None, multi_strategy=None, n_estimators=50,\n",
       "             n_jobs=None, num_parallel_tree=None, ...)</pre></div> </div></div></div></div></div></div></div><div class=\"sk-item\"><div class=\"sk-parallel\"><div class=\"sk-parallel-item\"><div class=\"sk-item\"><div class=\"sk-label-container\"><div class=\"sk-label fitted sk-toggleable\"><label>final_estimator</label></div></div><div class=\"sk-serial\"><div class=\"sk-item\"><div class=\"sk-estimator fitted sk-toggleable\"><input class=\"sk-toggleable__control sk-hidden--visually\" id=\"sk-estimator-id-6\" type=\"checkbox\" ><label for=\"sk-estimator-id-6\" class=\"sk-toggleable__label fitted sk-toggleable__label-arrow\"><div><div>GradientBoostingRegressor</div></div><div><a class=\"sk-estimator-doc-link fitted\" rel=\"noreferrer\" target=\"_blank\" href=\"https://scikit-learn.org/1.6/modules/generated/sklearn.ensemble.GradientBoostingRegressor.html\">?<span>Documentation for GradientBoostingRegressor</span></a></div></label><div class=\"sk-toggleable__content fitted\"><pre>GradientBoostingRegressor(max_depth=2, random_state=3)</pre></div> </div></div></div></div></div></div></div></div></div></div></div>"
      ],
      "text/plain": [
       "StackingRegressor(estimators=[('dt',\n",
       "                               DecisionTreeRegressor(max_depth=5,\n",
       "                                                     min_samples_leaf=4,\n",
       "                                                     random_state=42)),\n",
       "                              ('rf',\n",
       "                               RandomForestRegressor(max_depth=3,\n",
       "                                                     n_estimators=50,\n",
       "                                                     random_state=42)),\n",
       "                              ('et',\n",
       "                               ExtraTreesRegressor(max_depth=6, n_estimators=50,\n",
       "                                                   random_state=3)),\n",
       "                              ('xgb',\n",
       "                               XGBRegressor(base_score=None, booster=None,\n",
       "                                            callbacks=None,\n",
       "                                            colsample_bylevel=None,\n",
       "                                            colsample_b...\n",
       "                                            interaction_constraints=None,\n",
       "                                            learning_rate=0.1, max_bin=None,\n",
       "                                            max_cat_threshold=None,\n",
       "                                            max_cat_to_onehot=None,\n",
       "                                            max_delta_step=None, max_depth=3,\n",
       "                                            max_leaves=None,\n",
       "                                            min_child_weight=None, missing=nan,\n",
       "                                            monotone_constraints=None,\n",
       "                                            multi_strategy=None,\n",
       "                                            n_estimators=50, n_jobs=None,\n",
       "                                            num_parallel_tree=None, ...))],\n",
       "                  final_estimator=GradientBoostingRegressor(max_depth=2,\n",
       "                                                            random_state=3))"
      ]
     },
     "execution_count": 237,
     "metadata": {},
     "output_type": "execute_result"
    }
   ],
   "source": [
    "stacking_reg"
   ]
  },
  {
   "cell_type": "code",
   "execution_count": 279,
   "id": "9ea41f72-ec64-4b77-acf4-ef61cc610563",
   "metadata": {},
   "outputs": [],
   "source": [
    "import pickle"
   ]
  },
  {
   "cell_type": "code",
   "execution_count": 280,
   "id": "d5e7a7cf-7be9-46db-b130-23864c200ea9",
   "metadata": {},
   "outputs": [],
   "source": [
    "pickle.dump(stacking_reg,open(\"Insurance_stacking_reg.pkl\",\"wb\"))\n",
    "pickle.dump(scale, open('ScaleInsurance_stacking_reg.pkl','wb'))"
   ]
  },
  {
   "cell_type": "code",
   "execution_count": null,
   "id": "d2782cf1-65aa-4db4-8ec2-0250cf5103ce",
   "metadata": {},
   "outputs": [],
   "source": []
  }
 ],
 "metadata": {
  "kernelspec": {
   "display_name": "Python [conda env:base] *",
   "language": "python",
   "name": "conda-base-py"
  },
  "language_info": {
   "codemirror_mode": {
    "name": "ipython",
    "version": 3
   },
   "file_extension": ".py",
   "mimetype": "text/x-python",
   "name": "python",
   "nbconvert_exporter": "python",
   "pygments_lexer": "ipython3",
   "version": "3.13.5"
  }
 },
 "nbformat": 4,
 "nbformat_minor": 5
}
